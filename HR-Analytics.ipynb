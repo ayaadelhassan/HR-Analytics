{
 "cells": [
  {
   "cell_type": "markdown",
   "metadata": {},
   "source": [
    "# Load Datasets and required Libraries"
   ]
  },
  {
   "cell_type": "code",
   "execution_count": 67,
   "metadata": {},
   "outputs": [],
   "source": [
    "import numpy as np\n",
    "import pandas as pd\n",
    "import matplotlib.pyplot as plt\n",
    "import seaborn as sns\n",
    "\n",
    "#for association\n",
    "import pandas as pd\n",
    "from mlxtend.frequent_patterns import apriori\n",
    "from mlxtend.frequent_patterns import association_rules\n",
    "\n",
    "#for splitting the data\n",
    "from sklearn.model_selection import train_test_split\n",
    "\n",
    "#for normalization\n",
    "from sklearn.preprocessing import MinMaxScaler\n",
    "\n",
    "#for models\n",
    "from sklearn.svm import SVC\n",
    "from sklearn.metrics import classification_report, confusion_matrix, accuracy_score\n",
    "\n"
   ]
  },
  {
   "cell_type": "code",
   "execution_count": 68,
   "metadata": {},
   "outputs": [],
   "source": [
    "#reading the dataset\n",
    "dataset = pd.read_csv('train.csv')"
   ]
  },
  {
   "cell_type": "markdown",
   "metadata": {},
   "source": [
    "# Basic Dataset Statistics"
   ]
  },
  {
   "cell_type": "code",
   "execution_count": 69,
   "metadata": {},
   "outputs": [
    {
     "data": {
      "text/plain": [
       "(54808, 14)"
      ]
     },
     "execution_count": 69,
     "metadata": {},
     "output_type": "execute_result"
    }
   ],
   "source": [
    "#checking the shape of the dataset\n",
    "dataset.shape"
   ]
  },
  {
   "cell_type": "code",
   "execution_count": 70,
   "metadata": {},
   "outputs": [
    {
     "data": {
      "text/html": [
       "<div>\n",
       "<style scoped>\n",
       "    .dataframe tbody tr th:only-of-type {\n",
       "        vertical-align: middle;\n",
       "    }\n",
       "\n",
       "    .dataframe tbody tr th {\n",
       "        vertical-align: top;\n",
       "    }\n",
       "\n",
       "    .dataframe thead th {\n",
       "        text-align: right;\n",
       "    }\n",
       "</style>\n",
       "<table border=\"1\" class=\"dataframe\">\n",
       "  <thead>\n",
       "    <tr style=\"text-align: right;\">\n",
       "      <th></th>\n",
       "      <th>employee_id</th>\n",
       "      <th>department</th>\n",
       "      <th>region</th>\n",
       "      <th>education</th>\n",
       "      <th>gender</th>\n",
       "      <th>recruitment_channel</th>\n",
       "      <th>no_of_trainings</th>\n",
       "      <th>age</th>\n",
       "      <th>previous_year_rating</th>\n",
       "      <th>length_of_service</th>\n",
       "      <th>KPIs_met &gt;80%</th>\n",
       "      <th>awards_won?</th>\n",
       "      <th>avg_training_score</th>\n",
       "      <th>is_promoted</th>\n",
       "    </tr>\n",
       "  </thead>\n",
       "  <tbody>\n",
       "    <tr>\n",
       "      <th>0</th>\n",
       "      <td>65438</td>\n",
       "      <td>Sales &amp; Marketing</td>\n",
       "      <td>region_7</td>\n",
       "      <td>Master's &amp; above</td>\n",
       "      <td>f</td>\n",
       "      <td>sourcing</td>\n",
       "      <td>1</td>\n",
       "      <td>35</td>\n",
       "      <td>5.0</td>\n",
       "      <td>8</td>\n",
       "      <td>1</td>\n",
       "      <td>0</td>\n",
       "      <td>49</td>\n",
       "      <td>0</td>\n",
       "    </tr>\n",
       "    <tr>\n",
       "      <th>1</th>\n",
       "      <td>65141</td>\n",
       "      <td>Operations</td>\n",
       "      <td>region_22</td>\n",
       "      <td>Bachelor's</td>\n",
       "      <td>m</td>\n",
       "      <td>other</td>\n",
       "      <td>1</td>\n",
       "      <td>30</td>\n",
       "      <td>5.0</td>\n",
       "      <td>4</td>\n",
       "      <td>0</td>\n",
       "      <td>0</td>\n",
       "      <td>60</td>\n",
       "      <td>0</td>\n",
       "    </tr>\n",
       "    <tr>\n",
       "      <th>2</th>\n",
       "      <td>7513</td>\n",
       "      <td>Sales &amp; Marketing</td>\n",
       "      <td>region_19</td>\n",
       "      <td>Bachelor's</td>\n",
       "      <td>m</td>\n",
       "      <td>sourcing</td>\n",
       "      <td>1</td>\n",
       "      <td>34</td>\n",
       "      <td>3.0</td>\n",
       "      <td>7</td>\n",
       "      <td>0</td>\n",
       "      <td>0</td>\n",
       "      <td>50</td>\n",
       "      <td>0</td>\n",
       "    </tr>\n",
       "    <tr>\n",
       "      <th>3</th>\n",
       "      <td>2542</td>\n",
       "      <td>Sales &amp; Marketing</td>\n",
       "      <td>region_23</td>\n",
       "      <td>Bachelor's</td>\n",
       "      <td>m</td>\n",
       "      <td>other</td>\n",
       "      <td>2</td>\n",
       "      <td>39</td>\n",
       "      <td>1.0</td>\n",
       "      <td>10</td>\n",
       "      <td>0</td>\n",
       "      <td>0</td>\n",
       "      <td>50</td>\n",
       "      <td>0</td>\n",
       "    </tr>\n",
       "    <tr>\n",
       "      <th>4</th>\n",
       "      <td>48945</td>\n",
       "      <td>Technology</td>\n",
       "      <td>region_26</td>\n",
       "      <td>Bachelor's</td>\n",
       "      <td>m</td>\n",
       "      <td>other</td>\n",
       "      <td>1</td>\n",
       "      <td>45</td>\n",
       "      <td>3.0</td>\n",
       "      <td>2</td>\n",
       "      <td>0</td>\n",
       "      <td>0</td>\n",
       "      <td>73</td>\n",
       "      <td>0</td>\n",
       "    </tr>\n",
       "  </tbody>\n",
       "</table>\n",
       "</div>"
      ],
      "text/plain": [
       "   employee_id         department     region         education gender  \\\n",
       "0        65438  Sales & Marketing   region_7  Master's & above      f   \n",
       "1        65141         Operations  region_22        Bachelor's      m   \n",
       "2         7513  Sales & Marketing  region_19        Bachelor's      m   \n",
       "3         2542  Sales & Marketing  region_23        Bachelor's      m   \n",
       "4        48945         Technology  region_26        Bachelor's      m   \n",
       "\n",
       "  recruitment_channel  no_of_trainings  age  previous_year_rating  \\\n",
       "0            sourcing                1   35                   5.0   \n",
       "1               other                1   30                   5.0   \n",
       "2            sourcing                1   34                   3.0   \n",
       "3               other                2   39                   1.0   \n",
       "4               other                1   45                   3.0   \n",
       "\n",
       "   length_of_service  KPIs_met >80%  awards_won?  avg_training_score  \\\n",
       "0                  8              1            0                  49   \n",
       "1                  4              0            0                  60   \n",
       "2                  7              0            0                  50   \n",
       "3                 10              0            0                  50   \n",
       "4                  2              0            0                  73   \n",
       "\n",
       "   is_promoted  \n",
       "0            0  \n",
       "1            0  \n",
       "2            0  \n",
       "3            0  \n",
       "4            0  "
      ]
     },
     "execution_count": 70,
     "metadata": {},
     "output_type": "execute_result"
    }
   ],
   "source": [
    "dataset.head()"
   ]
  },
  {
   "cell_type": "code",
   "execution_count": 71,
   "metadata": {},
   "outputs": [
    {
     "data": {
      "text/html": [
       "<div>\n",
       "<style scoped>\n",
       "    .dataframe tbody tr th:only-of-type {\n",
       "        vertical-align: middle;\n",
       "    }\n",
       "\n",
       "    .dataframe tbody tr th {\n",
       "        vertical-align: top;\n",
       "    }\n",
       "\n",
       "    .dataframe thead th {\n",
       "        text-align: right;\n",
       "    }\n",
       "</style>\n",
       "<table border=\"1\" class=\"dataframe\">\n",
       "  <thead>\n",
       "    <tr style=\"text-align: right;\">\n",
       "      <th></th>\n",
       "      <th>employee_id</th>\n",
       "      <th>no_of_trainings</th>\n",
       "      <th>age</th>\n",
       "      <th>previous_year_rating</th>\n",
       "      <th>length_of_service</th>\n",
       "      <th>KPIs_met &gt;80%</th>\n",
       "      <th>awards_won?</th>\n",
       "      <th>avg_training_score</th>\n",
       "      <th>is_promoted</th>\n",
       "    </tr>\n",
       "  </thead>\n",
       "  <tbody>\n",
       "    <tr>\n",
       "      <th>count</th>\n",
       "      <td>54808.000000</td>\n",
       "      <td>54808.000000</td>\n",
       "      <td>54808.000000</td>\n",
       "      <td>50684.000000</td>\n",
       "      <td>54808.000000</td>\n",
       "      <td>54808.000000</td>\n",
       "      <td>54808.000000</td>\n",
       "      <td>54808.000000</td>\n",
       "      <td>54808.000000</td>\n",
       "    </tr>\n",
       "    <tr>\n",
       "      <th>mean</th>\n",
       "      <td>39195.830627</td>\n",
       "      <td>1.253011</td>\n",
       "      <td>34.803915</td>\n",
       "      <td>3.329256</td>\n",
       "      <td>5.865512</td>\n",
       "      <td>0.351974</td>\n",
       "      <td>0.023172</td>\n",
       "      <td>63.386750</td>\n",
       "      <td>0.085170</td>\n",
       "    </tr>\n",
       "    <tr>\n",
       "      <th>std</th>\n",
       "      <td>22586.581449</td>\n",
       "      <td>0.609264</td>\n",
       "      <td>7.660169</td>\n",
       "      <td>1.259993</td>\n",
       "      <td>4.265094</td>\n",
       "      <td>0.477590</td>\n",
       "      <td>0.150450</td>\n",
       "      <td>13.371559</td>\n",
       "      <td>0.279137</td>\n",
       "    </tr>\n",
       "    <tr>\n",
       "      <th>min</th>\n",
       "      <td>1.000000</td>\n",
       "      <td>1.000000</td>\n",
       "      <td>20.000000</td>\n",
       "      <td>1.000000</td>\n",
       "      <td>1.000000</td>\n",
       "      <td>0.000000</td>\n",
       "      <td>0.000000</td>\n",
       "      <td>39.000000</td>\n",
       "      <td>0.000000</td>\n",
       "    </tr>\n",
       "    <tr>\n",
       "      <th>25%</th>\n",
       "      <td>19669.750000</td>\n",
       "      <td>1.000000</td>\n",
       "      <td>29.000000</td>\n",
       "      <td>3.000000</td>\n",
       "      <td>3.000000</td>\n",
       "      <td>0.000000</td>\n",
       "      <td>0.000000</td>\n",
       "      <td>51.000000</td>\n",
       "      <td>0.000000</td>\n",
       "    </tr>\n",
       "    <tr>\n",
       "      <th>50%</th>\n",
       "      <td>39225.500000</td>\n",
       "      <td>1.000000</td>\n",
       "      <td>33.000000</td>\n",
       "      <td>3.000000</td>\n",
       "      <td>5.000000</td>\n",
       "      <td>0.000000</td>\n",
       "      <td>0.000000</td>\n",
       "      <td>60.000000</td>\n",
       "      <td>0.000000</td>\n",
       "    </tr>\n",
       "    <tr>\n",
       "      <th>75%</th>\n",
       "      <td>58730.500000</td>\n",
       "      <td>1.000000</td>\n",
       "      <td>39.000000</td>\n",
       "      <td>4.000000</td>\n",
       "      <td>7.000000</td>\n",
       "      <td>1.000000</td>\n",
       "      <td>0.000000</td>\n",
       "      <td>76.000000</td>\n",
       "      <td>0.000000</td>\n",
       "    </tr>\n",
       "    <tr>\n",
       "      <th>max</th>\n",
       "      <td>78298.000000</td>\n",
       "      <td>10.000000</td>\n",
       "      <td>60.000000</td>\n",
       "      <td>5.000000</td>\n",
       "      <td>37.000000</td>\n",
       "      <td>1.000000</td>\n",
       "      <td>1.000000</td>\n",
       "      <td>99.000000</td>\n",
       "      <td>1.000000</td>\n",
       "    </tr>\n",
       "  </tbody>\n",
       "</table>\n",
       "</div>"
      ],
      "text/plain": [
       "        employee_id  no_of_trainings           age  previous_year_rating  \\\n",
       "count  54808.000000     54808.000000  54808.000000          50684.000000   \n",
       "mean   39195.830627         1.253011     34.803915              3.329256   \n",
       "std    22586.581449         0.609264      7.660169              1.259993   \n",
       "min        1.000000         1.000000     20.000000              1.000000   \n",
       "25%    19669.750000         1.000000     29.000000              3.000000   \n",
       "50%    39225.500000         1.000000     33.000000              3.000000   \n",
       "75%    58730.500000         1.000000     39.000000              4.000000   \n",
       "max    78298.000000        10.000000     60.000000              5.000000   \n",
       "\n",
       "       length_of_service  KPIs_met >80%   awards_won?  avg_training_score  \\\n",
       "count       54808.000000   54808.000000  54808.000000        54808.000000   \n",
       "mean            5.865512       0.351974      0.023172           63.386750   \n",
       "std             4.265094       0.477590      0.150450           13.371559   \n",
       "min             1.000000       0.000000      0.000000           39.000000   \n",
       "25%             3.000000       0.000000      0.000000           51.000000   \n",
       "50%             5.000000       0.000000      0.000000           60.000000   \n",
       "75%             7.000000       1.000000      0.000000           76.000000   \n",
       "max            37.000000       1.000000      1.000000           99.000000   \n",
       "\n",
       "        is_promoted  \n",
       "count  54808.000000  \n",
       "mean       0.085170  \n",
       "std        0.279137  \n",
       "min        0.000000  \n",
       "25%        0.000000  \n",
       "50%        0.000000  \n",
       "75%        0.000000  \n",
       "max        1.000000  "
      ]
     },
     "execution_count": 71,
     "metadata": {},
     "output_type": "execute_result"
    }
   ],
   "source": [
    "#description of the numerical attributes\n",
    "dataset.describe()"
   ]
  },
  {
   "cell_type": "markdown",
   "metadata": {},
   "source": [
    "Conclusion from Statistical Numerical Data:\n",
    "The distribution of data for features no_of_trainings, age, length_of_service, avg_training_score looks normal because it's clear that the mean and the median are close enough"
   ]
  },
  {
   "cell_type": "code",
   "execution_count": 72,
   "metadata": {},
   "outputs": [
    {
     "data": {
      "text/html": [
       "<div>\n",
       "<style scoped>\n",
       "    .dataframe tbody tr th:only-of-type {\n",
       "        vertical-align: middle;\n",
       "    }\n",
       "\n",
       "    .dataframe tbody tr th {\n",
       "        vertical-align: top;\n",
       "    }\n",
       "\n",
       "    .dataframe thead th {\n",
       "        text-align: right;\n",
       "    }\n",
       "</style>\n",
       "<table border=\"1\" class=\"dataframe\">\n",
       "  <thead>\n",
       "    <tr style=\"text-align: right;\">\n",
       "      <th></th>\n",
       "      <th>department</th>\n",
       "      <th>region</th>\n",
       "      <th>education</th>\n",
       "      <th>gender</th>\n",
       "      <th>recruitment_channel</th>\n",
       "    </tr>\n",
       "  </thead>\n",
       "  <tbody>\n",
       "    <tr>\n",
       "      <th>count</th>\n",
       "      <td>54808</td>\n",
       "      <td>54808</td>\n",
       "      <td>52399</td>\n",
       "      <td>54808</td>\n",
       "      <td>54808</td>\n",
       "    </tr>\n",
       "    <tr>\n",
       "      <th>unique</th>\n",
       "      <td>9</td>\n",
       "      <td>34</td>\n",
       "      <td>3</td>\n",
       "      <td>2</td>\n",
       "      <td>3</td>\n",
       "    </tr>\n",
       "    <tr>\n",
       "      <th>top</th>\n",
       "      <td>Sales &amp; Marketing</td>\n",
       "      <td>region_2</td>\n",
       "      <td>Bachelor's</td>\n",
       "      <td>m</td>\n",
       "      <td>other</td>\n",
       "    </tr>\n",
       "    <tr>\n",
       "      <th>freq</th>\n",
       "      <td>16840</td>\n",
       "      <td>12343</td>\n",
       "      <td>36669</td>\n",
       "      <td>38496</td>\n",
       "      <td>30446</td>\n",
       "    </tr>\n",
       "  </tbody>\n",
       "</table>\n",
       "</div>"
      ],
      "text/plain": [
       "               department    region   education gender recruitment_channel\n",
       "count               54808     54808       52399  54808               54808\n",
       "unique                  9        34           3      2                   3\n",
       "top     Sales & Marketing  region_2  Bachelor's      m               other\n",
       "freq                16840     12343       36669  38496               30446"
      ]
     },
     "execution_count": 72,
     "metadata": {},
     "output_type": "execute_result"
    }
   ],
   "source": [
    "#description of the categorical attributes\n",
    "dataset.describe(include = 'object')"
   ]
  },
  {
   "cell_type": "markdown",
   "metadata": {},
   "source": [
    "Conclusion:\n",
    "\n",
    "Data majority in gender is male with frequency 38496 \n",
    "\n",
    "Data majority in department is Sales & Marketing with frequency 16840\n",
    "\n",
    "Data majority in education is Bachelor's with frequency 36669\n",
    "\n",
    "Data majority in region is region_2 with frequency 12343\n",
    "\n",
    "Data majority in recruitment_channel is other with frequency 30446"
   ]
  },
  {
   "cell_type": "code",
   "execution_count": 73,
   "metadata": {},
   "outputs": [
    {
     "name": "stdout",
     "output_type": "stream",
     "text": [
      "<class 'pandas.core.frame.DataFrame'>\n",
      "RangeIndex: 54808 entries, 0 to 54807\n",
      "Data columns (total 14 columns):\n",
      " #   Column                Non-Null Count  Dtype  \n",
      "---  ------                --------------  -----  \n",
      " 0   employee_id           54808 non-null  int64  \n",
      " 1   department            54808 non-null  object \n",
      " 2   region                54808 non-null  object \n",
      " 3   education             52399 non-null  object \n",
      " 4   gender                54808 non-null  object \n",
      " 5   recruitment_channel   54808 non-null  object \n",
      " 6   no_of_trainings       54808 non-null  int64  \n",
      " 7   age                   54808 non-null  int64  \n",
      " 8   previous_year_rating  50684 non-null  float64\n",
      " 9   length_of_service     54808 non-null  int64  \n",
      " 10  KPIs_met >80%         54808 non-null  int64  \n",
      " 11  awards_won?           54808 non-null  int64  \n",
      " 12  avg_training_score    54808 non-null  int64  \n",
      " 13  is_promoted           54808 non-null  int64  \n",
      "dtypes: float64(1), int64(8), object(5)\n",
      "memory usage: 5.9+ MB\n"
     ]
    }
   ],
   "source": [
    "dataset.info()"
   ]
  },
  {
   "cell_type": "markdown",
   "metadata": {},
   "source": [
    "# Checking for Null values"
   ]
  },
  {
   "cell_type": "code",
   "execution_count": 8,
   "metadata": {},
   "outputs": [
    {
     "data": {
      "text/plain": [
       "employee_id                0\n",
       "department                 0\n",
       "region                     0\n",
       "education               2409\n",
       "gender                     0\n",
       "recruitment_channel        0\n",
       "no_of_trainings            0\n",
       "age                        0\n",
       "previous_year_rating    4124\n",
       "length_of_service          0\n",
       "KPIs_met >80%              0\n",
       "awards_won?                0\n",
       "avg_training_score         0\n",
       "is_promoted                0\n",
       "dtype: int64"
      ]
     },
     "execution_count": 8,
     "metadata": {},
     "output_type": "execute_result"
    }
   ],
   "source": [
    "#checking for null values in the dataset\n",
    "dataset.isnull().sum()"
   ]
  },
  {
   "cell_type": "markdown",
   "metadata": {},
   "source": [
    "Columns 'education' and 'previous_year_rating' have some null values\n",
    "\n",
    "This needs to be solved\n",
    "\n",
    "Solution:\n",
    "\n",
    "Fill the education column using mode()\n",
    "\n",
    "Fill the prev_year_rating with the median value (= 3)"
   ]
  },
  {
   "cell_type": "code",
   "execution_count": 74,
   "metadata": {},
   "outputs": [
    {
     "data": {
      "text/plain": [
       "employee_id             0\n",
       "department              0\n",
       "region                  0\n",
       "education               0\n",
       "gender                  0\n",
       "recruitment_channel     0\n",
       "no_of_trainings         0\n",
       "age                     0\n",
       "previous_year_rating    0\n",
       "length_of_service       0\n",
       "KPIs_met >80%           0\n",
       "awards_won?             0\n",
       "avg_training_score      0\n",
       "is_promoted             0\n",
       "dtype: int64"
      ]
     },
     "execution_count": 74,
     "metadata": {},
     "output_type": "execute_result"
    }
   ],
   "source": [
    "#filling the null values\n",
    "dataset['education'].fillna(dataset['education'].mode()[0], inplace = True)\n",
    "dataset['previous_year_rating'].fillna(3, inplace = True)\n",
    "\n",
    "#checking for null values again:\n",
    "dataset.isnull().sum()"
   ]
  },
  {
   "cell_type": "markdown",
   "metadata": {},
   "source": [
    "# Checking for Columns with one value only"
   ]
  },
  {
   "cell_type": "code",
   "execution_count": 75,
   "metadata": {},
   "outputs": [
    {
     "name": "stdout",
     "output_type": "stream",
     "text": [
      "The name of column(s) with single value: {}\n"
     ]
    }
   ],
   "source": [
    "#check for columns with only one value\n",
    "one_val = dict()\n",
    "for col in dataset.columns:\n",
    "    if len(dataset[col].unique()) == 1:\n",
    "        one_val.update({col: dataset[col].unique().tolist()})\n",
    "        \n",
    "print('The name of column(s) with single value: %s' % one_val)"
   ]
  },
  {
   "cell_type": "markdown",
   "metadata": {},
   "source": [
    "No columns that have one value only, so nothing to be done"
   ]
  },
  {
   "cell_type": "markdown",
   "metadata": {},
   "source": [
    "# Checking fro duplicate rows"
   ]
  },
  {
   "cell_type": "code",
   "execution_count": 76,
   "metadata": {},
   "outputs": [
    {
     "data": {
      "text/plain": [
       "0"
      ]
     },
     "execution_count": 76,
     "metadata": {},
     "output_type": "execute_result"
    }
   ],
   "source": [
    "dataset.duplicated().sum()"
   ]
  },
  {
   "cell_type": "markdown",
   "metadata": {},
   "source": [
    "No duplicate rows, so nothing to be done"
   ]
  },
  {
   "cell_type": "markdown",
   "metadata": {},
   "source": [
    "# dropping the 'employee_id'"
   ]
  },
  {
   "cell_type": "code",
   "execution_count": 77,
   "metadata": {},
   "outputs": [
    {
     "name": "stdout",
     "output_type": "stream",
     "text": [
      "<class 'pandas.core.frame.DataFrame'>\n",
      "RangeIndex: 54808 entries, 0 to 54807\n",
      "Data columns (total 13 columns):\n",
      " #   Column                Non-Null Count  Dtype  \n",
      "---  ------                --------------  -----  \n",
      " 0   department            54808 non-null  object \n",
      " 1   region                54808 non-null  object \n",
      " 2   education             54808 non-null  object \n",
      " 3   gender                54808 non-null  object \n",
      " 4   recruitment_channel   54808 non-null  object \n",
      " 5   no_of_trainings       54808 non-null  int64  \n",
      " 6   age                   54808 non-null  int64  \n",
      " 7   previous_year_rating  54808 non-null  float64\n",
      " 8   length_of_service     54808 non-null  int64  \n",
      " 9   KPIs_met >80%         54808 non-null  int64  \n",
      " 10  awards_won?           54808 non-null  int64  \n",
      " 11  avg_training_score    54808 non-null  int64  \n",
      " 12  is_promoted           54808 non-null  int64  \n",
      "dtypes: float64(1), int64(7), object(5)\n",
      "memory usage: 5.4+ MB\n"
     ]
    }
   ],
   "source": [
    "dataset = dataset.drop(['employee_id'], axis = 1)\n",
    "dataset.info()"
   ]
  },
  {
   "cell_type": "markdown",
   "metadata": {},
   "source": [
    "# Data Visualization"
   ]
  },
  {
   "cell_type": "markdown",
   "metadata": {},
   "source": [
    "### Uni-Variate"
   ]
  },
  {
   "cell_type": "code",
   "execution_count": 78,
   "metadata": {},
   "outputs": [
    {
     "name": "stderr",
     "output_type": "stream",
     "text": [
      "e:\\Anaconda\\lib\\site-packages\\seaborn\\categorical.py:3666: UserWarning: The `factorplot` function has been renamed to `catplot`. The original name will be removed in a future release. Please update your code. Note that the default `kind` in `factorplot` (`'point'`) has changed `'strip'` in `catplot`.\n",
      "  warnings.warn(msg)\n",
      "e:\\Anaconda\\lib\\site-packages\\seaborn\\categorical.py:3672: UserWarning: The `size` parameter has been renamed to `height`; please update your code.\n",
      "  warnings.warn(msg, UserWarning)\n"
     ]
    },
    {
     "data": {
      "text/plain": [
       "<seaborn.axisgrid.FacetGrid at 0x234201d68e0>"
      ]
     },
     "execution_count": 78,
     "metadata": {},
     "output_type": "execute_result"
    },
    {
     "data": {
      "image/png": "[encoded data removed]",
      "text/plain": [
       "<Figure size 2160x720 with 1 Axes>"
      ]
     },
     "metadata": {
      "needs_background": "light"
     },
     "output_type": "display_data"
    }
   ],
   "source": [
    "#first we try the boxplot\n",
    "###################UNSUCCESSFUL TRIAL###########################\n",
    "sns.factorplot(data=dataset,kind='box',size=10,aspect=3)"
   ]
  },
  {
   "cell_type": "markdown",
   "metadata": {},
   "source": [
    "Features have pretty different scales, so, plotting a boxplot is not a good idea.\n",
    "\n",
    "Instead what we can do is plot histograms of various continuously distributed features"
   ]
  },
  {
   "cell_type": "code",
   "execution_count": 79,
   "metadata": {},
   "outputs": [
    {
     "data": {
      "text/plain": [
       "array([[<matplotlib.axes._subplots.AxesSubplot object at 0x000002341E353D90>,\n",
       "        <matplotlib.axes._subplots.AxesSubplot object at 0x0000023420367FD0>,\n",
       "        <matplotlib.axes._subplots.AxesSubplot object at 0x000002341F520700>],\n",
       "       [<matplotlib.axes._subplots.AxesSubplot object at 0x000002341F4B7580>,\n",
       "        <matplotlib.axes._subplots.AxesSubplot object at 0x000002341F4C0DC0>,\n",
       "        <matplotlib.axes._subplots.AxesSubplot object at 0x000002341E2D1160>],\n",
       "       [<matplotlib.axes._subplots.AxesSubplot object at 0x000002341E2D1550>,\n",
       "        <matplotlib.axes._subplots.AxesSubplot object at 0x000002341F53E2E0>,\n",
       "        <matplotlib.axes._subplots.AxesSubplot object at 0x000002341F52F580>]],\n",
       "      dtype=object)"
      ]
     },
     "execution_count": 79,
     "metadata": {},
     "output_type": "execute_result"
    },
    {
     "data": {
      "image/png": "[encoded data removed]",
      "text/plain": [
       "<Figure size 1440x720 with 9 Axes>"
      ]
     },
     "metadata": {
      "needs_background": "light"
     },
     "output_type": "display_data"
    }
   ],
   "source": [
    "#plotting the histogram distribution of each numerical feature\n",
    "dataset.hist(bins=60,figsize=(20,10))"
   ]
  },
  {
   "cell_type": "code",
   "execution_count": 80,
   "metadata": {},
   "outputs": [
    {
     "data": {
      "image/png": "[encoded data removed]",
      "text/plain": [
       "<Figure size 432x288 with 1 Axes>"
      ]
     },
     "metadata": {
      "needs_background": "light"
     },
     "output_type": "display_data"
    }
   ],
   "source": [
    "dataset['department'].value_counts().plot(kind='bar')\n",
    "plt.title('Distibution of departments in dataset',fontweight='bold',fontsize = 20)\n",
    "plt.xlabel('Departments',fontweight='bold',fontsize = 15)\n",
    "plt.ylabel('count',fontweight='bold',fontsize = 15)\n",
    "plt.xticks(fontweight=\"bold\",fontsize = 10)\n",
    "plt.yticks(fontweight=\"bold\",fontsize = 10)\n",
    "plt.show()\n"
   ]
  },
  {
   "cell_type": "code",
   "execution_count": 81,
   "metadata": {},
   "outputs": [
    {
     "data": {
      "image/png": "[encoded data removed]",
      "text/plain": [
       "<Figure size 2160x720 with 1 Axes>"
      ]
     },
     "metadata": {
      "needs_background": "light"
     },
     "output_type": "display_data"
    }
   ],
   "source": [
    "plt.figure(figsize=(30,10))\n",
    "dataset['region'].value_counts().plot(kind='bar')\n",
    "plt.title('Distibution of regions in dataset',fontweight='bold',fontsize = 20)\n",
    "plt.xlabel('Regions',fontweight='bold',fontsize = 15)\n",
    "plt.ylabel('count',fontweight='bold',fontsize = 15)\n",
    "plt.xticks(fontweight=\"bold\",fontsize = 10)\n",
    "plt.yticks(fontweight=\"bold\",fontsize = 10)\n",
    "plt.show()"
   ]
  },
  {
   "cell_type": "code",
   "execution_count": 82,
   "metadata": {},
   "outputs": [
    {
     "name": "stdout",
     "output_type": "stream",
     "text": [
      "<class 'pandas.core.frame.DataFrame'>\n",
      "RangeIndex: 54808 entries, 0 to 54807\n",
      "Data columns (total 13 columns):\n",
      " #   Column                Non-Null Count  Dtype  \n",
      "---  ------                --------------  -----  \n",
      " 0   department            54808 non-null  object \n",
      " 1   region                54808 non-null  object \n",
      " 2   education             54808 non-null  object \n",
      " 3   gender                54808 non-null  object \n",
      " 4   recruitment_channel   54808 non-null  object \n",
      " 5   no_of_trainings       54808 non-null  int64  \n",
      " 6   age                   54808 non-null  int64  \n",
      " 7   previous_year_rating  54808 non-null  float64\n",
      " 8   length_of_service     54808 non-null  int64  \n",
      " 9   KPIs_met >80%         54808 non-null  int64  \n",
      " 10  awards_won?           54808 non-null  int64  \n",
      " 11  avg_training_score    54808 non-null  int64  \n",
      " 12  is_promoted           54808 non-null  int64  \n",
      "dtypes: float64(1), int64(7), object(5)\n",
      "memory usage: 5.4+ MB\n"
     ]
    }
   ],
   "source": [
    "dataset.info()"
   ]
  },
  {
   "cell_type": "code",
   "execution_count": 83,
   "metadata": {},
   "outputs": [
    {
     "data": {
      "image/png": "[encoded data removed]",
      "text/plain": [
       "<Figure size 432x288 with 1 Axes>"
      ]
     },
     "metadata": {
      "needs_background": "light"
     },
     "output_type": "display_data"
    }
   ],
   "source": [
    "dataset['education'].value_counts().plot(kind='bar')\n",
    "plt.title('Distibution of education categories in dataset',fontweight='bold',fontsize = 20)\n",
    "plt.xlabel('education',fontweight='bold',fontsize = 15)\n",
    "plt.ylabel('count',fontweight='bold',fontsize = 15)\n",
    "plt.xticks(fontweight=\"bold\",fontsize = 10)\n",
    "plt.yticks(fontweight=\"bold\",fontsize = 10)\n",
    "plt.show()"
   ]
  },
  {
   "cell_type": "code",
   "execution_count": 31,
   "metadata": {},
   "outputs": [
    {
     "data": {
      "image/png": "[encoded data removed]",
      "text/plain": [
       "<Figure size 432x288 with 1 Axes>"
      ]
     },
     "metadata": {
      "needs_background": "light"
     },
     "output_type": "display_data"
    }
   ],
   "source": [
    "dataset['gender'].value_counts().plot(kind='bar')\n",
    "plt.title('Distibution of gender categories in dataset',fontweight='bold',fontsize = 20)\n",
    "plt.xlabel('gender',fontweight='bold',fontsize = 15)\n",
    "plt.ylabel('count',fontweight='bold',fontsize = 15)\n",
    "plt.xticks(fontweight=\"bold\",fontsize = 10)\n",
    "plt.yticks(fontweight=\"bold\",fontsize = 10)\n",
    "plt.show()"
   ]
  },
  {
   "cell_type": "code",
   "execution_count": 32,
   "metadata": {},
   "outputs": [
    {
     "data": {
      "image/png": "[encoded data removed]",
      "text/plain": [
       "<Figure size 432x288 with 1 Axes>"
      ]
     },
     "metadata": {
      "needs_background": "light"
     },
     "output_type": "display_data"
    }
   ],
   "source": [
    "dataset['recruitment_channel'].value_counts().plot(kind='bar')\n",
    "plt.title('Distibution of recruitment channels in dataset',fontweight='bold',fontsize = 20)\n",
    "plt.xlabel('recruitment_channel',fontweight='bold',fontsize = 15)\n",
    "plt.ylabel('count',fontweight='bold',fontsize = 15)\n",
    "plt.xticks(fontweight=\"bold\",fontsize = 10)\n",
    "plt.yticks(fontweight=\"bold\",fontsize = 10)\n",
    "plt.show()"
   ]
  },
  {
   "cell_type": "code",
   "execution_count": 33,
   "metadata": {},
   "outputs": [
    {
     "data": {
      "image/png": "[encoded data removed]",
      "text/plain": [
       "<Figure size 432x288 with 1 Axes>"
      ]
     },
     "metadata": {
      "needs_background": "light"
     },
     "output_type": "display_data"
    }
   ],
   "source": [
    "plt.hist(dataset['is_promoted'])\n",
    "plt.title('Promoted vs Non-Promoted', fontsize = 30)\n",
    "plt.xlabel('0: NonPromoted, 1: Promoted', fontsize = 20)\n",
    "plt.ylabel('count')\n",
    "plt.show()"
   ]
  },
  {
   "cell_type": "markdown",
   "metadata": {},
   "source": [
    "There is a clear imbalancing problem in the target column between the two classes\n",
    "\n",
    "Need to be solved using SMOTE in the preprocessing step"
   ]
  },
  {
   "cell_type": "markdown",
   "metadata": {},
   "source": [
    "### Multi-Variate"
   ]
  },
  {
   "cell_type": "code",
   "execution_count": 34,
   "metadata": {},
   "outputs": [
    {
     "data": {
      "image/png": "[encoded data removed]",
      "text/plain": [
       "<Figure size 1152x720 with 2 Axes>"
      ]
     },
     "metadata": {
      "needs_background": "light"
     },
     "output_type": "display_data"
    }
   ],
   "source": [
    "plt.figure(figsize = (16, 10))\n",
    "sns.heatmap(dataset.corr(), annot = True, cmap=\"YlGnBu\")\n",
    "plt.show()"
   ]
  },
  {
   "cell_type": "markdown",
   "metadata": {},
   "source": [
    "- Each variable has correlation = 1 with itself as expected\n",
    "\n",
    "- There is high correlation between age and length_of_service as expected as older employees are more likely to have been\n",
    "working in the company for longer time\n",
    "\n",
    "- KPIs_met>80% is somehow related to previous year rating as expected as high rated employees are more likely to have their\n",
    "KPIs met the condition"
   ]
  },
  {
   "cell_type": "code",
   "execution_count": 35,
   "metadata": {},
   "outputs": [
    {
     "data": {
      "image/png": "[encoded data removed]",
      "text/plain": [
       "<Figure size 1440x648 with 1 Axes>"
      ]
     },
     "metadata": {
      "needs_background": "light"
     },
     "output_type": "display_data"
    }
   ],
   "source": [
    "data = pd.crosstab(dataset['avg_training_score'], dataset['is_promoted'])\n",
    "data.div(data.sum(1).astype(float), axis = 0).plot(kind = 'bar', stacked = True, figsize = (20, 9))\n",
    "\n",
    "plt.title('avg_training_score values by promotion', fontsize = 30)\n",
    "plt.xlabel('Average Training Scores', fontsize = 15)\n",
    "plt.legend()\n",
    "plt.show()"
   ]
  },
  {
   "cell_type": "markdown",
   "metadata": {},
   "source": [
    "It's clear that the higher the avg_training_score, the more likely the employee is to be promoted"
   ]
  },
  {
   "cell_type": "code",
   "execution_count": 36,
   "metadata": {},
   "outputs": [
    {
     "data": {
      "image/png": "[encoded data removed]",
      "text/plain": [
       "<Figure size 1440x576 with 1 Axes>"
      ]
     },
     "metadata": {
      "needs_background": "light"
     },
     "output_type": "display_data"
    }
   ],
   "source": [
    "data = pd.crosstab(dataset['region'], dataset['is_promoted'])\n",
    "data.div(data.sum(1).astype('float'), axis = 0).plot(kind = 'bar', stacked = True, figsize = (20, 8))\n",
    "\n",
    "plt.title('regions by promotion', fontsize = 30)\n",
    "plt.xlabel('Different Regions of the Company', fontsize = 20)\n",
    "plt.legend()\n",
    "plt.show()"
   ]
  },
  {
   "cell_type": "markdown",
   "metadata": {},
   "source": [
    "The above graph shows that there is no biasedness over regions in terms of Promotion as all the regions share promotions almost equally"
   ]
  },
  {
   "cell_type": "code",
   "execution_count": 37,
   "metadata": {},
   "outputs": [
    {
     "data": {
      "image/png": "[encoded data removed]",
      "text/plain": [
       "<Figure size 720x576 with 1 Axes>"
      ]
     },
     "metadata": {
      "needs_background": "light"
     },
     "output_type": "display_data"
    }
   ],
   "source": [
    "data = pd.crosstab(dataset['awards_won?'], dataset['is_promoted'])\n",
    "data.div(data.sum(1).astype('float'), axis = 0).plot(kind = 'bar', stacked = True, figsize = (10, 8))\n",
    "\n",
    "plt.title('awards_won? by promotion', fontsize = 30)\n",
    "plt.xlabel('Awards Won or Not', fontsize = 20)\n",
    "plt.legend()\n",
    "plt.show()"
   ]
  },
  {
   "cell_type": "markdown",
   "metadata": {},
   "source": [
    "It's clear that the more awards the employee have, the more likely he/she is to be promoted"
   ]
  },
  {
   "cell_type": "code",
   "execution_count": 38,
   "metadata": {},
   "outputs": [
    {
     "data": {
      "image/png": "[encoded data removed]",
      "text/plain": [
       "<Figure size 720x576 with 1 Axes>"
      ]
     },
     "metadata": {
      "needs_background": "light"
     },
     "output_type": "display_data"
    }
   ],
   "source": [
    "data = pd.crosstab(dataset['KPIs_met >80%'], dataset['is_promoted'])\n",
    "data.div(data.sum(1).astype('float'), axis = 0).plot(kind = 'bar', stacked = True, figsize = (10, 8))\n",
    "\n",
    "plt.title('KPIs>80%? by promotion', fontsize = 30)\n",
    "plt.xlabel('KPIs Met or Not', fontsize = 20)\n",
    "plt.legend()\n",
    "plt.show()"
   ]
  },
  {
   "cell_type": "markdown",
   "metadata": {},
   "source": [
    "It's clear that the more KPIs the employee have, the more likely he/she is to be promoted"
   ]
  },
  {
   "cell_type": "code",
   "execution_count": 39,
   "metadata": {},
   "outputs": [
    {
     "data": {
      "image/png": "[encoded data removed]",
      "text/plain": [
       "<Figure size 1080x576 with 1 Axes>"
      ]
     },
     "metadata": {
      "needs_background": "light"
     },
     "output_type": "display_data"
    }
   ],
   "source": [
    "data = pd.crosstab(dataset['previous_year_rating'], dataset['is_promoted'])\n",
    "data.div(data.sum(1).astype('float'), axis = 0).plot(kind = 'bar', stacked = True, figsize = (15, 8))\n",
    "\n",
    "plt.title('previous_year_rating by promotion', fontsize = 30)\n",
    "plt.xlabel('Different Ratings', fontsize = 20)\n",
    "plt.legend()\n",
    "plt.show()"
   ]
  },
  {
   "cell_type": "markdown",
   "metadata": {},
   "source": [
    "It's clear that the higher the rating of the employee, the more likely he/she is to be promoted"
   ]
  },
  {
   "cell_type": "code",
   "execution_count": 40,
   "metadata": {},
   "outputs": [
    {
     "data": {
      "image/png": "[encoded data removed]",
      "text/plain": [
       "<Figure size 1440x576 with 1 Axes>"
      ]
     },
     "metadata": {
      "needs_background": "light"
     },
     "output_type": "display_data"
    }
   ],
   "source": [
    "data = pd.crosstab(dataset['length_of_service'], dataset['is_promoted'])\n",
    "data.div(data.sum(1).astype('float'), axis = 0).plot(kind = 'bar', stacked = True, figsize = (20, 8))\n",
    "\n",
    "plt.title('length of service by promotion', fontsize = 30)\n",
    "plt.xlabel('Length of service of employees', fontsize = 20)\n",
    "plt.legend()\n",
    "plt.show()"
   ]
  },
  {
   "cell_type": "markdown",
   "metadata": {},
   "source": [
    "Overall, we don't see a pttern in the length of service to determine the promotion of the employee\n"
   ]
  },
  {
   "cell_type": "code",
   "execution_count": 41,
   "metadata": {},
   "outputs": [
    {
     "data": {
      "image/png": "[encoded data removed]",
      "text/plain": [
       "<Figure size 1440x576 with 1 Axes>"
      ]
     },
     "metadata": {
      "needs_background": "light"
     },
     "output_type": "display_data"
    }
   ],
   "source": [
    "data = pd.crosstab(dataset['age'], dataset['is_promoted'])\n",
    "data.div(data.sum(1).astype('float'), axis = 0).plot(kind = 'bar', stacked = True, figsize = (20, 8))\n",
    "\n",
    "plt.title('Age by promotion', fontsize = 30)\n",
    "plt.xlabel('Age of Employees', fontsize = 20)\n",
    "plt.legend()\n",
    "plt.show()"
   ]
  },
  {
   "cell_type": "markdown",
   "metadata": {},
   "source": [
    "Overall, i don't see a pttern in the age to determine the promotion of the employee.\n",
    "\n",
    "And this shows that the company promotes employees of all ages equally, even the freshers have equal share of promotion\n"
   ]
  },
  {
   "cell_type": "code",
   "execution_count": 42,
   "metadata": {},
   "outputs": [
    {
     "data": {
      "image/png": "[encoded data removed]",
      "text/plain": [
       "<Figure size 1440x576 with 1 Axes>"
      ]
     },
     "metadata": {
      "needs_background": "light"
     },
     "output_type": "display_data"
    }
   ],
   "source": [
    "data = pd.crosstab(dataset['department'], dataset['is_promoted'])\n",
    "data.div(data.sum(1).astype('float'), axis = 0).plot(kind = 'bar', stacked = True, figsize = (20, 8))\n",
    "\n",
    "plt.title('Departments by promotion', fontsize = 30)\n",
    "plt.xlabel('Different Departments of the Company', fontsize = 20)\n",
    "plt.legend()\n",
    "plt.show()"
   ]
  },
  {
   "cell_type": "markdown",
   "metadata": {},
   "source": [
    "It's clear that the department has no pattern to determine the promotion of the employee, \n",
    "so, we can safely say that Departments have a similar effect on the promotion."
   ]
  },
  {
   "cell_type": "code",
   "execution_count": 43,
   "metadata": {},
   "outputs": [
    {
     "data": {
      "image/png": "[encoded data removed]",
      "text/plain": [
       "<Figure size 504x360 with 1 Axes>"
      ]
     },
     "metadata": {
      "needs_background": "light"
     },
     "output_type": "display_data"
    }
   ],
   "source": [
    "data = pd.crosstab(dataset['gender'], dataset['is_promoted'])\n",
    "data.div(data.sum(1).astype('float'), axis = 0).plot(kind = 'bar', stacked = True, figsize = (7, 5))\n",
    "\n",
    "plt.title('Gender by promotion', fontsize = 30)\n",
    "plt.xlabel('Gender', fontsize = 20)\n",
    "plt.legend()\n",
    "plt.show()"
   ]
  },
  {
   "cell_type": "markdown",
   "metadata": {},
   "source": [
    "- The gender doesn't affect how likely the employee is to be promoted\n",
    "- Yes females are minority in the company, but When it comes to promotion, they are competing with their men counterparts neck-to-neck."
   ]
  },
  {
   "cell_type": "code",
   "execution_count": 44,
   "metadata": {},
   "outputs": [
    {
     "data": {
      "image/png": "[encoded data removed]",
      "text/plain": [
       "<Figure size 504x360 with 1 Axes>"
      ]
     },
     "metadata": {
      "needs_background": "light"
     },
     "output_type": "display_data"
    }
   ],
   "source": [
    "data = pd.crosstab(dataset['no_of_trainings'], dataset['is_promoted'])\n",
    "data.div(data.sum(1).astype('float'), axis = 0).plot(kind = 'bar', stacked = True, figsize = (7, 5))\n",
    "\n",
    "plt.title('no_of_trainings by promotion', fontsize = 30)\n",
    "plt.xlabel('no_of_trainings', fontsize = 20)\n",
    "plt.legend()\n",
    "plt.show()"
   ]
  },
  {
   "cell_type": "markdown",
   "metadata": {},
   "source": [
    "It's clear that the less trainings the employee have, the more likely he/she is to be promoted"
   ]
  },
  {
   "cell_type": "code",
   "execution_count": 45,
   "metadata": {},
   "outputs": [
    {
     "data": {
      "image/png": "[encoded data removed]",
      "text/plain": [
       "<Figure size 504x360 with 1 Axes>"
      ]
     },
     "metadata": {
      "needs_background": "light"
     },
     "output_type": "display_data"
    }
   ],
   "source": [
    "data = pd.crosstab(dataset['education'], dataset['is_promoted'])\n",
    "data.div(data.sum(1).astype('float'), axis = 0).plot(kind = 'bar', stacked = True, figsize = (7, 5))\n",
    "\n",
    "plt.title('Education by promotion', fontsize = 30)\n",
    "plt.xlabel('education', fontsize = 20)\n",
    "plt.legend()\n",
    "plt.show()"
   ]
  },
  {
   "cell_type": "markdown",
   "metadata": {},
   "source": [
    "It's clear that Education doesn't affect how likely the employee is to be promoted"
   ]
  },
  {
   "cell_type": "code",
   "execution_count": 46,
   "metadata": {},
   "outputs": [
    {
     "data": {
      "image/png": "[encoded data removed]",
      "text/plain": [
       "<Figure size 504x360 with 1 Axes>"
      ]
     },
     "metadata": {
      "needs_background": "light"
     },
     "output_type": "display_data"
    }
   ],
   "source": [
    "data = pd.crosstab(dataset['recruitment_channel'], dataset['is_promoted'])\n",
    "data.div(data.sum(1).astype('float'), axis = 0).plot(kind = 'bar', stacked = True, figsize = (7, 5))\n",
    "\n",
    "plt.title('recruitment_channel categories by promotion', fontsize = 30)\n",
    "plt.xlabel('recruitment_channel', fontsize = 20)\n",
    "plt.legend()\n",
    "plt.show()"
   ]
  },
  {
   "cell_type": "markdown",
   "metadata": {},
   "source": [
    "It's clear that recruitment_channel doesn't affect how likely the employee is to be promoted"
   ]
  },
  {
   "cell_type": "markdown",
   "metadata": {},
   "source": [
    "# Descriptive Analysis: Association Rule Mining"
   ]
  },
  {
   "cell_type": "markdown",
   "metadata": {},
   "source": [
    "Done in another notebook to minimize the length of this one"
   ]
  },
  {
   "cell_type": "markdown",
   "metadata": {},
   "source": [
    "# Feature Selection"
   ]
  },
  {
   "cell_type": "markdown",
   "metadata": {},
   "source": [
    "From data analysis and using the Forward Selection Method, we will train on the following features:\n",
    "- department\n",
    "- region\n",
    "- recruitment_channel\n",
    "- age\n",
    "- length_of_service\n",
    "- no_of_trainings\n",
    "- previous_year_rating\n",
    "- KPIs_met >80% \n",
    "- awards_won?\n",
    "- avg_training_score\n",
    "\n",
    "And drop the following features:\n",
    "- education\n",
    "- gender"
   ]
  },
  {
   "cell_type": "code",
   "execution_count": 47,
   "metadata": {},
   "outputs": [
    {
     "name": "stdout",
     "output_type": "stream",
     "text": [
      "<class 'pandas.core.frame.DataFrame'>\n",
      "RangeIndex: 54808 entries, 0 to 54807\n",
      "Data columns (total 11 columns):\n",
      " #   Column                Non-Null Count  Dtype  \n",
      "---  ------                --------------  -----  \n",
      " 0   department            54808 non-null  object \n",
      " 1   region                54808 non-null  object \n",
      " 2   recruitment_channel   54808 non-null  object \n",
      " 3   no_of_trainings       54808 non-null  int64  \n",
      " 4   age                   54808 non-null  int64  \n",
      " 5   previous_year_rating  54808 non-null  float64\n",
      " 6   length_of_service     54808 non-null  int64  \n",
      " 7   KPIs_met >80%         54808 non-null  int64  \n",
      " 8   awards_won?           54808 non-null  int64  \n",
      " 9   avg_training_score    54808 non-null  int64  \n",
      " 10  is_promoted           54808 non-null  int64  \n",
      "dtypes: float64(1), int64(7), object(3)\n",
      "memory usage: 4.6+ MB\n"
     ]
    }
   ],
   "source": [
    "dataset= dataset.drop(['education'], axis = 1)\n",
    "dataset= dataset.drop(['gender'],axis=1)\n",
    "dataset.info()"
   ]
  },
  {
   "cell_type": "markdown",
   "metadata": {},
   "source": [
    "# Preprocessing"
   ]
  },
  {
   "cell_type": "markdown",
   "metadata": {},
   "source": [
    "### Handling Categorical data"
   ]
  },
  {
   "cell_type": "code",
   "execution_count": 48,
   "metadata": {},
   "outputs": [
    {
     "name": "stdout",
     "output_type": "stream",
     "text": [
      "(54808, 10)\n",
      "(54808,)\n"
     ]
    }
   ],
   "source": [
    "#split data into features and target\n",
    "X = dataset.iloc[:, :-1]\n",
    "y = dataset.iloc[:, -1]\n",
    "\n",
    "print(X.shape)\n",
    "print(y.shape)"
   ]
  },
  {
   "cell_type": "code",
   "execution_count": 50,
   "metadata": {},
   "outputs": [
    {
     "data": {
      "text/plain": [
       "Index(['no_of_trainings', 'age', 'previous_year_rating', 'length_of_service',\n",
       "       'KPIs_met >80%', 'awards_won?', 'avg_training_score',\n",
       "       'department_Analytics', 'department_Finance', 'department_HR',\n",
       "       'department_Legal', 'department_Operations', 'department_Procurement',\n",
       "       'department_R&D', 'department_Sales & Marketing',\n",
       "       'department_Technology', 'region_region_1', 'region_region_10',\n",
       "       'region_region_11', 'region_region_12', 'region_region_13',\n",
       "       'region_region_14', 'region_region_15', 'region_region_16',\n",
       "       'region_region_17', 'region_region_18', 'region_region_19',\n",
       "       'region_region_2', 'region_region_20', 'region_region_21',\n",
       "       'region_region_22', 'region_region_23', 'region_region_24',\n",
       "       'region_region_25', 'region_region_26', 'region_region_27',\n",
       "       'region_region_28', 'region_region_29', 'region_region_3',\n",
       "       'region_region_30', 'region_region_31', 'region_region_32',\n",
       "       'region_region_33', 'region_region_34', 'region_region_4',\n",
       "       'region_region_5', 'region_region_6', 'region_region_7',\n",
       "       'region_region_8', 'region_region_9', 'recruitment_channel_other',\n",
       "       'recruitment_channel_referred', 'recruitment_channel_sourcing'],\n",
       "      dtype='object')"
      ]
     },
     "execution_count": 50,
     "metadata": {},
     "output_type": "execute_result"
    }
   ],
   "source": [
    "#performing one hot encoding on the categorical variables\n",
    "X = pd.get_dummies(X)\n",
    "X.columns"
   ]
  },
  {
   "cell_type": "markdown",
   "metadata": {},
   "source": [
    "### Handling Imbalanced class"
   ]
  },
  {
   "cell_type": "code",
   "execution_count": 51,
   "metadata": {},
   "outputs": [
    {
     "name": "stdout",
     "output_type": "stream",
     "text": [
      "(100280, 53)\n",
      "(100280, 1)\n"
     ]
    }
   ],
   "source": [
    "from imblearn.over_sampling import SMOTE\n",
    "\n",
    "X, y = SMOTE().fit_resample(X, y.values.ravel())\n",
    "\n",
    "X = pd.DataFrame(X)\n",
    "y = pd.DataFrame(y)\n",
    "\n",
    "print( X.shape)\n",
    "print( y.shape)"
   ]
  },
  {
   "cell_type": "code",
   "execution_count": 52,
   "metadata": {},
   "outputs": [
    {
     "data": {
      "text/plain": [
       "1    50140\n",
       "0    50140\n",
       "Name: 0, dtype: int64"
      ]
     },
     "execution_count": 52,
     "metadata": {},
     "output_type": "execute_result"
    }
   ],
   "source": [
    "y[0].value_counts()\n",
    "#Now the problem of imbalancing is solved"
   ]
  },
  {
   "cell_type": "markdown",
   "metadata": {},
   "source": [
    "### Splitting the data set into train_validate and test"
   ]
  },
  {
   "cell_type": "code",
   "execution_count": 53,
   "metadata": {},
   "outputs": [
    {
     "data": {
      "text/html": [
       "<div>\n",
       "<style scoped>\n",
       "    .dataframe tbody tr th:only-of-type {\n",
       "        vertical-align: middle;\n",
       "    }\n",
       "\n",
       "    .dataframe tbody tr th {\n",
       "        vertical-align: top;\n",
       "    }\n",
       "\n",
       "    .dataframe thead th {\n",
       "        text-align: right;\n",
       "    }\n",
       "</style>\n",
       "<table border=\"1\" class=\"dataframe\">\n",
       "  <thead>\n",
       "    <tr style=\"text-align: right;\">\n",
       "      <th></th>\n",
       "      <th>no_of_trainings</th>\n",
       "      <th>age</th>\n",
       "      <th>previous_year_rating</th>\n",
       "      <th>length_of_service</th>\n",
       "      <th>KPIs_met &gt;80%</th>\n",
       "      <th>awards_won?</th>\n",
       "      <th>avg_training_score</th>\n",
       "      <th>department_Analytics</th>\n",
       "      <th>department_Finance</th>\n",
       "      <th>department_HR</th>\n",
       "      <th>...</th>\n",
       "      <th>region_region_4</th>\n",
       "      <th>region_region_5</th>\n",
       "      <th>region_region_6</th>\n",
       "      <th>region_region_7</th>\n",
       "      <th>region_region_8</th>\n",
       "      <th>region_region_9</th>\n",
       "      <th>recruitment_channel_other</th>\n",
       "      <th>recruitment_channel_referred</th>\n",
       "      <th>recruitment_channel_sourcing</th>\n",
       "      <th>0</th>\n",
       "    </tr>\n",
       "  </thead>\n",
       "  <tbody>\n",
       "    <tr>\n",
       "      <th>0</th>\n",
       "      <td>1</td>\n",
       "      <td>35</td>\n",
       "      <td>5.0</td>\n",
       "      <td>8</td>\n",
       "      <td>1</td>\n",
       "      <td>0</td>\n",
       "      <td>49</td>\n",
       "      <td>0</td>\n",
       "      <td>0</td>\n",
       "      <td>0</td>\n",
       "      <td>...</td>\n",
       "      <td>0</td>\n",
       "      <td>0</td>\n",
       "      <td>0</td>\n",
       "      <td>1</td>\n",
       "      <td>0</td>\n",
       "      <td>0</td>\n",
       "      <td>0</td>\n",
       "      <td>0</td>\n",
       "      <td>1</td>\n",
       "      <td>0</td>\n",
       "    </tr>\n",
       "    <tr>\n",
       "      <th>1</th>\n",
       "      <td>1</td>\n",
       "      <td>30</td>\n",
       "      <td>5.0</td>\n",
       "      <td>4</td>\n",
       "      <td>0</td>\n",
       "      <td>0</td>\n",
       "      <td>60</td>\n",
       "      <td>0</td>\n",
       "      <td>0</td>\n",
       "      <td>0</td>\n",
       "      <td>...</td>\n",
       "      <td>0</td>\n",
       "      <td>0</td>\n",
       "      <td>0</td>\n",
       "      <td>0</td>\n",
       "      <td>0</td>\n",
       "      <td>0</td>\n",
       "      <td>1</td>\n",
       "      <td>0</td>\n",
       "      <td>0</td>\n",
       "      <td>0</td>\n",
       "    </tr>\n",
       "  </tbody>\n",
       "</table>\n",
       "<p>2 rows × 54 columns</p>\n",
       "</div>"
      ],
      "text/plain": [
       "   no_of_trainings  age  previous_year_rating  length_of_service  \\\n",
       "0                1   35                   5.0                  8   \n",
       "1                1   30                   5.0                  4   \n",
       "\n",
       "   KPIs_met >80%  awards_won?  avg_training_score  department_Analytics  \\\n",
       "0              1            0                  49                     0   \n",
       "1              0            0                  60                     0   \n",
       "\n",
       "   department_Finance  department_HR  ...  region_region_4  region_region_5  \\\n",
       "0                   0              0  ...                0                0   \n",
       "1                   0              0  ...                0                0   \n",
       "\n",
       "   region_region_6  region_region_7  region_region_8  region_region_9  \\\n",
       "0                0                1                0                0   \n",
       "1                0                0                0                0   \n",
       "\n",
       "   recruitment_channel_other  recruitment_channel_referred  \\\n",
       "0                          0                             0   \n",
       "1                          1                             0   \n",
       "\n",
       "   recruitment_channel_sourcing  0  \n",
       "0                             1  0  \n",
       "1                             0  0  \n",
       "\n",
       "[2 rows x 54 columns]"
      ]
     },
     "execution_count": 53,
     "metadata": {},
     "output_type": "execute_result"
    }
   ],
   "source": [
    "#concatenate X and Y\n",
    "dataset_v2 = pd.concat([X,y], axis=1)\n",
    "dataset_v2.head(2)"
   ]
  },
  {
   "cell_type": "code",
   "execution_count": 54,
   "metadata": {},
   "outputs": [
    {
     "name": "stdout",
     "output_type": "stream",
     "text": [
      "<class 'pandas.core.frame.DataFrame'>\n",
      "RangeIndex: 100280 entries, 0 to 100279\n",
      "Data columns (total 54 columns):\n",
      " #   Column                        Non-Null Count   Dtype  \n",
      "---  ------                        --------------   -----  \n",
      " 0   no_of_trainings               100280 non-null  int64  \n",
      " 1   age                           100280 non-null  int64  \n",
      " 2   previous_year_rating          100280 non-null  float64\n",
      " 3   length_of_service             100280 non-null  int64  \n",
      " 4   KPIs_met >80%                 100280 non-null  int64  \n",
      " 5   awards_won?                   100280 non-null  int64  \n",
      " 6   avg_training_score            100280 non-null  int64  \n",
      " 7   department_Analytics          100280 non-null  uint8  \n",
      " 8   department_Finance            100280 non-null  uint8  \n",
      " 9   department_HR                 100280 non-null  uint8  \n",
      " 10  department_Legal              100280 non-null  uint8  \n",
      " 11  department_Operations         100280 non-null  uint8  \n",
      " 12  department_Procurement        100280 non-null  uint8  \n",
      " 13  department_R&D                100280 non-null  uint8  \n",
      " 14  department_Sales & Marketing  100280 non-null  uint8  \n",
      " 15  department_Technology         100280 non-null  uint8  \n",
      " 16  region_region_1               100280 non-null  uint8  \n",
      " 17  region_region_10              100280 non-null  uint8  \n",
      " 18  region_region_11              100280 non-null  uint8  \n",
      " 19  region_region_12              100280 non-null  uint8  \n",
      " 20  region_region_13              100280 non-null  uint8  \n",
      " 21  region_region_14              100280 non-null  uint8  \n",
      " 22  region_region_15              100280 non-null  uint8  \n",
      " 23  region_region_16              100280 non-null  uint8  \n",
      " 24  region_region_17              100280 non-null  uint8  \n",
      " 25  region_region_18              100280 non-null  uint8  \n",
      " 26  region_region_19              100280 non-null  uint8  \n",
      " 27  region_region_2               100280 non-null  uint8  \n",
      " 28  region_region_20              100280 non-null  uint8  \n",
      " 29  region_region_21              100280 non-null  uint8  \n",
      " 30  region_region_22              100280 non-null  uint8  \n",
      " 31  region_region_23              100280 non-null  uint8  \n",
      " 32  region_region_24              100280 non-null  uint8  \n",
      " 33  region_region_25              100280 non-null  uint8  \n",
      " 34  region_region_26              100280 non-null  uint8  \n",
      " 35  region_region_27              100280 non-null  uint8  \n",
      " 36  region_region_28              100280 non-null  uint8  \n",
      " 37  region_region_29              100280 non-null  uint8  \n",
      " 38  region_region_3               100280 non-null  uint8  \n",
      " 39  region_region_30              100280 non-null  uint8  \n",
      " 40  region_region_31              100280 non-null  uint8  \n",
      " 41  region_region_32              100280 non-null  uint8  \n",
      " 42  region_region_33              100280 non-null  uint8  \n",
      " 43  region_region_34              100280 non-null  uint8  \n",
      " 44  region_region_4               100280 non-null  uint8  \n",
      " 45  region_region_5               100280 non-null  uint8  \n",
      " 46  region_region_6               100280 non-null  uint8  \n",
      " 47  region_region_7               100280 non-null  uint8  \n",
      " 48  region_region_8               100280 non-null  uint8  \n",
      " 49  region_region_9               100280 non-null  uint8  \n",
      " 50  recruitment_channel_other     100280 non-null  uint8  \n",
      " 51  recruitment_channel_referred  100280 non-null  uint8  \n",
      " 52  recruitment_channel_sourcing  100280 non-null  uint8  \n",
      " 53  0                             100280 non-null  int64  \n",
      "dtypes: float64(1), int64(7), uint8(46)\n",
      "memory usage: 10.5 MB\n"
     ]
    }
   ],
   "source": [
    "dataset_v2.info()"
   ]
  },
  {
   "cell_type": "code",
   "execution_count": 56,
   "metadata": {},
   "outputs": [],
   "source": [
    "dataset_v2.rename(columns = {0:'is_promoted'}, inplace = True)\n"
   ]
  },
  {
   "cell_type": "code",
   "execution_count": 59,
   "metadata": {},
   "outputs": [
    {
     "data": {
      "image/png": "[encoded data removed]",
      "text/plain": [
       "<Figure size 432x288 with 1 Axes>"
      ]
     },
     "metadata": {
      "needs_background": "light"
     },
     "output_type": "display_data"
    }
   ],
   "source": [
    "plt.hist(dataset_v2['is_promoted'])\n",
    "plt.title('Promoted vs Non-Promoted', fontsize = 30)\n",
    "plt.xlabel('0: NonPromoted, 1: Promoted', fontsize = 20)\n",
    "plt.ylabel('count')\n",
    "plt.show()"
   ]
  },
  {
   "cell_type": "code",
   "execution_count": 66,
   "metadata": {},
   "outputs": [
    {
     "data": {
      "text/html": [
       "<div>\n",
       "<style scoped>\n",
       "    .dataframe tbody tr th:only-of-type {\n",
       "        vertical-align: middle;\n",
       "    }\n",
       "\n",
       "    .dataframe tbody tr th {\n",
       "        vertical-align: top;\n",
       "    }\n",
       "\n",
       "    .dataframe thead th {\n",
       "        text-align: right;\n",
       "    }\n",
       "</style>\n",
       "<table border=\"1\" class=\"dataframe\">\n",
       "  <thead>\n",
       "    <tr style=\"text-align: right;\">\n",
       "      <th></th>\n",
       "      <th>no_of_trainings</th>\n",
       "      <th>age</th>\n",
       "      <th>previous_year_rating</th>\n",
       "      <th>length_of_service</th>\n",
       "      <th>KPIs_met &gt;80%</th>\n",
       "      <th>awards_won?</th>\n",
       "      <th>avg_training_score</th>\n",
       "      <th>department_Analytics</th>\n",
       "      <th>department_Finance</th>\n",
       "      <th>department_HR</th>\n",
       "      <th>...</th>\n",
       "      <th>region_region_4</th>\n",
       "      <th>region_region_5</th>\n",
       "      <th>region_region_6</th>\n",
       "      <th>region_region_7</th>\n",
       "      <th>region_region_8</th>\n",
       "      <th>region_region_9</th>\n",
       "      <th>recruitment_channel_other</th>\n",
       "      <th>recruitment_channel_referred</th>\n",
       "      <th>recruitment_channel_sourcing</th>\n",
       "      <th>is_promoted</th>\n",
       "    </tr>\n",
       "  </thead>\n",
       "  <tbody>\n",
       "    <tr>\n",
       "      <th>0</th>\n",
       "      <td>1</td>\n",
       "      <td>35</td>\n",
       "      <td>5.0</td>\n",
       "      <td>8</td>\n",
       "      <td>1</td>\n",
       "      <td>0</td>\n",
       "      <td>49</td>\n",
       "      <td>0</td>\n",
       "      <td>0</td>\n",
       "      <td>0</td>\n",
       "      <td>...</td>\n",
       "      <td>0</td>\n",
       "      <td>0</td>\n",
       "      <td>0</td>\n",
       "      <td>1</td>\n",
       "      <td>0</td>\n",
       "      <td>0</td>\n",
       "      <td>0</td>\n",
       "      <td>0</td>\n",
       "      <td>1</td>\n",
       "      <td>0</td>\n",
       "    </tr>\n",
       "    <tr>\n",
       "      <th>1</th>\n",
       "      <td>1</td>\n",
       "      <td>30</td>\n",
       "      <td>5.0</td>\n",
       "      <td>4</td>\n",
       "      <td>0</td>\n",
       "      <td>0</td>\n",
       "      <td>60</td>\n",
       "      <td>0</td>\n",
       "      <td>0</td>\n",
       "      <td>0</td>\n",
       "      <td>...</td>\n",
       "      <td>0</td>\n",
       "      <td>0</td>\n",
       "      <td>0</td>\n",
       "      <td>0</td>\n",
       "      <td>0</td>\n",
       "      <td>0</td>\n",
       "      <td>1</td>\n",
       "      <td>0</td>\n",
       "      <td>0</td>\n",
       "      <td>0</td>\n",
       "    </tr>\n",
       "  </tbody>\n",
       "</table>\n",
       "<p>2 rows × 54 columns</p>\n",
       "</div>"
      ],
      "text/plain": [
       "   no_of_trainings  age  previous_year_rating  length_of_service  \\\n",
       "0                1   35                   5.0                  8   \n",
       "1                1   30                   5.0                  4   \n",
       "\n",
       "   KPIs_met >80%  awards_won?  avg_training_score  department_Analytics  \\\n",
       "0              1            0                  49                     0   \n",
       "1              0            0                  60                     0   \n",
       "\n",
       "   department_Finance  department_HR  ...  region_region_4  region_region_5  \\\n",
       "0                   0              0  ...                0                0   \n",
       "1                   0              0  ...                0                0   \n",
       "\n",
       "   region_region_6  region_region_7  region_region_8  region_region_9  \\\n",
       "0                0                1                0                0   \n",
       "1                0                0                0                0   \n",
       "\n",
       "   recruitment_channel_other  recruitment_channel_referred  \\\n",
       "0                          0                             0   \n",
       "1                          1                             0   \n",
       "\n",
       "   recruitment_channel_sourcing  is_promoted  \n",
       "0                             1            0  \n",
       "1                             0            0  \n",
       "\n",
       "[2 rows x 54 columns]"
      ]
     },
     "execution_count": 66,
     "metadata": {},
     "output_type": "execute_result"
    }
   ],
   "source": [
    "dataset_v2.head(2)"
   ]
  },
  {
   "cell_type": "code",
   "execution_count": 67,
   "metadata": {},
   "outputs": [],
   "source": [
    "dataset_train, dataset_test = train_test_split(dataset_v2, test_size = 0.2, random_state = 0)"
   ]
  },
  {
   "cell_type": "markdown",
   "metadata": {},
   "source": [
    "### Data Normalization"
   ]
  },
  {
   "cell_type": "code",
   "execution_count": 68,
   "metadata": {},
   "outputs": [
    {
     "name": "stderr",
     "output_type": "stream",
     "text": [
      "<ipython-input-68-2e4cf0d5e506>:3: SettingWithCopyWarning: \n",
      "A value is trying to be set on a copy of a slice from a DataFrame.\n",
      "Try using .loc[row_indexer,col_indexer] = value instead\n",
      "\n",
      "See the caveats in the documentation: https://pandas.pydata.org/pandas-docs/stable/user_guide/indexing.html#returning-a-view-versus-a-copy\n",
      "  dataset_train[column] = (dataset_train[column] - dataset_train[column].min()) / (dataset_train[column].max() - dataset_train[column].min())\n",
      "<ipython-input-68-2e4cf0d5e506>:3: SettingWithCopyWarning: \n",
      "A value is trying to be set on a copy of a slice from a DataFrame.\n",
      "Try using .loc[row_indexer,col_indexer] = value instead\n",
      "\n",
      "See the caveats in the documentation: https://pandas.pydata.org/pandas-docs/stable/user_guide/indexing.html#returning-a-view-versus-a-copy\n",
      "  dataset_train[column] = (dataset_train[column] - dataset_train[column].min()) / (dataset_train[column].max() - dataset_train[column].min())\n",
      "<ipython-input-68-2e4cf0d5e506>:3: SettingWithCopyWarning: \n",
      "A value is trying to be set on a copy of a slice from a DataFrame.\n",
      "Try using .loc[row_indexer,col_indexer] = value instead\n",
      "\n",
      "See the caveats in the documentation: https://pandas.pydata.org/pandas-docs/stable/user_guide/indexing.html#returning-a-view-versus-a-copy\n",
      "  dataset_train[column] = (dataset_train[column] - dataset_train[column].min()) / (dataset_train[column].max() - dataset_train[column].min())\n",
      "<ipython-input-68-2e4cf0d5e506>:3: SettingWithCopyWarning: \n",
      "A value is trying to be set on a copy of a slice from a DataFrame.\n",
      "Try using .loc[row_indexer,col_indexer] = value instead\n",
      "\n",
      "See the caveats in the documentation: https://pandas.pydata.org/pandas-docs/stable/user_guide/indexing.html#returning-a-view-versus-a-copy\n",
      "  dataset_train[column] = (dataset_train[column] - dataset_train[column].min()) / (dataset_train[column].max() - dataset_train[column].min())\n",
      "<ipython-input-68-2e4cf0d5e506>:3: SettingWithCopyWarning: \n",
      "A value is trying to be set on a copy of a slice from a DataFrame.\n",
      "Try using .loc[row_indexer,col_indexer] = value instead\n",
      "\n",
      "See the caveats in the documentation: https://pandas.pydata.org/pandas-docs/stable/user_guide/indexing.html#returning-a-view-versus-a-copy\n",
      "  dataset_train[column] = (dataset_train[column] - dataset_train[column].min()) / (dataset_train[column].max() - dataset_train[column].min())\n",
      "<ipython-input-68-2e4cf0d5e506>:3: SettingWithCopyWarning: \n",
      "A value is trying to be set on a copy of a slice from a DataFrame.\n",
      "Try using .loc[row_indexer,col_indexer] = value instead\n",
      "\n",
      "See the caveats in the documentation: https://pandas.pydata.org/pandas-docs/stable/user_guide/indexing.html#returning-a-view-versus-a-copy\n",
      "  dataset_train[column] = (dataset_train[column] - dataset_train[column].min()) / (dataset_train[column].max() - dataset_train[column].min())\n",
      "<ipython-input-68-2e4cf0d5e506>:3: SettingWithCopyWarning: \n",
      "A value is trying to be set on a copy of a slice from a DataFrame.\n",
      "Try using .loc[row_indexer,col_indexer] = value instead\n",
      "\n",
      "See the caveats in the documentation: https://pandas.pydata.org/pandas-docs/stable/user_guide/indexing.html#returning-a-view-versus-a-copy\n",
      "  dataset_train[column] = (dataset_train[column] - dataset_train[column].min()) / (dataset_train[column].max() - dataset_train[column].min())\n",
      "<ipython-input-68-2e4cf0d5e506>:3: SettingWithCopyWarning: \n",
      "A value is trying to be set on a copy of a slice from a DataFrame.\n",
      "Try using .loc[row_indexer,col_indexer] = value instead\n",
      "\n",
      "See the caveats in the documentation: https://pandas.pydata.org/pandas-docs/stable/user_guide/indexing.html#returning-a-view-versus-a-copy\n",
      "  dataset_train[column] = (dataset_train[column] - dataset_train[column].min()) / (dataset_train[column].max() - dataset_train[column].min())\n",
      "<ipython-input-68-2e4cf0d5e506>:3: SettingWithCopyWarning: \n",
      "A value is trying to be set on a copy of a slice from a DataFrame.\n",
      "Try using .loc[row_indexer,col_indexer] = value instead\n",
      "\n",
      "See the caveats in the documentation: https://pandas.pydata.org/pandas-docs/stable/user_guide/indexing.html#returning-a-view-versus-a-copy\n",
      "  dataset_train[column] = (dataset_train[column] - dataset_train[column].min()) / (dataset_train[column].max() - dataset_train[column].min())\n",
      "<ipython-input-68-2e4cf0d5e506>:3: SettingWithCopyWarning: \n",
      "A value is trying to be set on a copy of a slice from a DataFrame.\n",
      "Try using .loc[row_indexer,col_indexer] = value instead\n",
      "\n",
      "See the caveats in the documentation: https://pandas.pydata.org/pandas-docs/stable/user_guide/indexing.html#returning-a-view-versus-a-copy\n",
      "  dataset_train[column] = (dataset_train[column] - dataset_train[column].min()) / (dataset_train[column].max() - dataset_train[column].min())\n",
      "<ipython-input-68-2e4cf0d5e506>:3: SettingWithCopyWarning: \n",
      "A value is trying to be set on a copy of a slice from a DataFrame.\n",
      "Try using .loc[row_indexer,col_indexer] = value instead\n",
      "\n",
      "See the caveats in the documentation: https://pandas.pydata.org/pandas-docs/stable/user_guide/indexing.html#returning-a-view-versus-a-copy\n",
      "  dataset_train[column] = (dataset_train[column] - dataset_train[column].min()) / (dataset_train[column].max() - dataset_train[column].min())\n",
      "<ipython-input-68-2e4cf0d5e506>:3: SettingWithCopyWarning: \n",
      "A value is trying to be set on a copy of a slice from a DataFrame.\n",
      "Try using .loc[row_indexer,col_indexer] = value instead\n",
      "\n",
      "See the caveats in the documentation: https://pandas.pydata.org/pandas-docs/stable/user_guide/indexing.html#returning-a-view-versus-a-copy\n",
      "  dataset_train[column] = (dataset_train[column] - dataset_train[column].min()) / (dataset_train[column].max() - dataset_train[column].min())\n",
      "<ipython-input-68-2e4cf0d5e506>:3: SettingWithCopyWarning: \n",
      "A value is trying to be set on a copy of a slice from a DataFrame.\n",
      "Try using .loc[row_indexer,col_indexer] = value instead\n",
      "\n",
      "See the caveats in the documentation: https://pandas.pydata.org/pandas-docs/stable/user_guide/indexing.html#returning-a-view-versus-a-copy\n",
      "  dataset_train[column] = (dataset_train[column] - dataset_train[column].min()) / (dataset_train[column].max() - dataset_train[column].min())\n",
      "<ipython-input-68-2e4cf0d5e506>:3: SettingWithCopyWarning: \n",
      "A value is trying to be set on a copy of a slice from a DataFrame.\n",
      "Try using .loc[row_indexer,col_indexer] = value instead\n",
      "\n",
      "See the caveats in the documentation: https://pandas.pydata.org/pandas-docs/stable/user_guide/indexing.html#returning-a-view-versus-a-copy\n",
      "  dataset_train[column] = (dataset_train[column] - dataset_train[column].min()) / (dataset_train[column].max() - dataset_train[column].min())\n",
      "<ipython-input-68-2e4cf0d5e506>:3: SettingWithCopyWarning: \n",
      "A value is trying to be set on a copy of a slice from a DataFrame.\n",
      "Try using .loc[row_indexer,col_indexer] = value instead\n",
      "\n",
      "See the caveats in the documentation: https://pandas.pydata.org/pandas-docs/stable/user_guide/indexing.html#returning-a-view-versus-a-copy\n",
      "  dataset_train[column] = (dataset_train[column] - dataset_train[column].min()) / (dataset_train[column].max() - dataset_train[column].min())\n",
      "<ipython-input-68-2e4cf0d5e506>:3: SettingWithCopyWarning: \n",
      "A value is trying to be set on a copy of a slice from a DataFrame.\n",
      "Try using .loc[row_indexer,col_indexer] = value instead\n",
      "\n",
      "See the caveats in the documentation: https://pandas.pydata.org/pandas-docs/stable/user_guide/indexing.html#returning-a-view-versus-a-copy\n",
      "  dataset_train[column] = (dataset_train[column] - dataset_train[column].min()) / (dataset_train[column].max() - dataset_train[column].min())\n",
      "<ipython-input-68-2e4cf0d5e506>:3: SettingWithCopyWarning: \n",
      "A value is trying to be set on a copy of a slice from a DataFrame.\n",
      "Try using .loc[row_indexer,col_indexer] = value instead\n",
      "\n",
      "See the caveats in the documentation: https://pandas.pydata.org/pandas-docs/stable/user_guide/indexing.html#returning-a-view-versus-a-copy\n",
      "  dataset_train[column] = (dataset_train[column] - dataset_train[column].min()) / (dataset_train[column].max() - dataset_train[column].min())\n",
      "<ipython-input-68-2e4cf0d5e506>:3: SettingWithCopyWarning: \n",
      "A value is trying to be set on a copy of a slice from a DataFrame.\n",
      "Try using .loc[row_indexer,col_indexer] = value instead\n",
      "\n",
      "See the caveats in the documentation: https://pandas.pydata.org/pandas-docs/stable/user_guide/indexing.html#returning-a-view-versus-a-copy\n",
      "  dataset_train[column] = (dataset_train[column] - dataset_train[column].min()) / (dataset_train[column].max() - dataset_train[column].min())\n",
      "<ipython-input-68-2e4cf0d5e506>:3: SettingWithCopyWarning: \n",
      "A value is trying to be set on a copy of a slice from a DataFrame.\n",
      "Try using .loc[row_indexer,col_indexer] = value instead\n",
      "\n",
      "See the caveats in the documentation: https://pandas.pydata.org/pandas-docs/stable/user_guide/indexing.html#returning-a-view-versus-a-copy\n",
      "  dataset_train[column] = (dataset_train[column] - dataset_train[column].min()) / (dataset_train[column].max() - dataset_train[column].min())\n",
      "<ipython-input-68-2e4cf0d5e506>:3: SettingWithCopyWarning: \n",
      "A value is trying to be set on a copy of a slice from a DataFrame.\n",
      "Try using .loc[row_indexer,col_indexer] = value instead\n",
      "\n",
      "See the caveats in the documentation: https://pandas.pydata.org/pandas-docs/stable/user_guide/indexing.html#returning-a-view-versus-a-copy\n",
      "  dataset_train[column] = (dataset_train[column] - dataset_train[column].min()) / (dataset_train[column].max() - dataset_train[column].min())\n",
      "<ipython-input-68-2e4cf0d5e506>:3: SettingWithCopyWarning: \n",
      "A value is trying to be set on a copy of a slice from a DataFrame.\n",
      "Try using .loc[row_indexer,col_indexer] = value instead\n",
      "\n",
      "See the caveats in the documentation: https://pandas.pydata.org/pandas-docs/stable/user_guide/indexing.html#returning-a-view-versus-a-copy\n",
      "  dataset_train[column] = (dataset_train[column] - dataset_train[column].min()) / (dataset_train[column].max() - dataset_train[column].min())\n",
      "<ipython-input-68-2e4cf0d5e506>:3: SettingWithCopyWarning: \n",
      "A value is trying to be set on a copy of a slice from a DataFrame.\n",
      "Try using .loc[row_indexer,col_indexer] = value instead\n",
      "\n",
      "See the caveats in the documentation: https://pandas.pydata.org/pandas-docs/stable/user_guide/indexing.html#returning-a-view-versus-a-copy\n",
      "  dataset_train[column] = (dataset_train[column] - dataset_train[column].min()) / (dataset_train[column].max() - dataset_train[column].min())\n",
      "<ipython-input-68-2e4cf0d5e506>:3: SettingWithCopyWarning: \n",
      "A value is trying to be set on a copy of a slice from a DataFrame.\n",
      "Try using .loc[row_indexer,col_indexer] = value instead\n",
      "\n",
      "See the caveats in the documentation: https://pandas.pydata.org/pandas-docs/stable/user_guide/indexing.html#returning-a-view-versus-a-copy\n",
      "  dataset_train[column] = (dataset_train[column] - dataset_train[column].min()) / (dataset_train[column].max() - dataset_train[column].min())\n",
      "<ipython-input-68-2e4cf0d5e506>:3: SettingWithCopyWarning: \n",
      "A value is trying to be set on a copy of a slice from a DataFrame.\n",
      "Try using .loc[row_indexer,col_indexer] = value instead\n",
      "\n",
      "See the caveats in the documentation: https://pandas.pydata.org/pandas-docs/stable/user_guide/indexing.html#returning-a-view-versus-a-copy\n",
      "  dataset_train[column] = (dataset_train[column] - dataset_train[column].min()) / (dataset_train[column].max() - dataset_train[column].min())\n",
      "<ipython-input-68-2e4cf0d5e506>:3: SettingWithCopyWarning: \n",
      "A value is trying to be set on a copy of a slice from a DataFrame.\n",
      "Try using .loc[row_indexer,col_indexer] = value instead\n",
      "\n",
      "See the caveats in the documentation: https://pandas.pydata.org/pandas-docs/stable/user_guide/indexing.html#returning-a-view-versus-a-copy\n",
      "  dataset_train[column] = (dataset_train[column] - dataset_train[column].min()) / (dataset_train[column].max() - dataset_train[column].min())\n",
      "<ipython-input-68-2e4cf0d5e506>:3: SettingWithCopyWarning: \n",
      "A value is trying to be set on a copy of a slice from a DataFrame.\n",
      "Try using .loc[row_indexer,col_indexer] = value instead\n",
      "\n",
      "See the caveats in the documentation: https://pandas.pydata.org/pandas-docs/stable/user_guide/indexing.html#returning-a-view-versus-a-copy\n",
      "  dataset_train[column] = (dataset_train[column] - dataset_train[column].min()) / (dataset_train[column].max() - dataset_train[column].min())\n",
      "<ipython-input-68-2e4cf0d5e506>:3: SettingWithCopyWarning: \n",
      "A value is trying to be set on a copy of a slice from a DataFrame.\n",
      "Try using .loc[row_indexer,col_indexer] = value instead\n",
      "\n",
      "See the caveats in the documentation: https://pandas.pydata.org/pandas-docs/stable/user_guide/indexing.html#returning-a-view-versus-a-copy\n",
      "  dataset_train[column] = (dataset_train[column] - dataset_train[column].min()) / (dataset_train[column].max() - dataset_train[column].min())\n",
      "<ipython-input-68-2e4cf0d5e506>:3: SettingWithCopyWarning: \n",
      "A value is trying to be set on a copy of a slice from a DataFrame.\n",
      "Try using .loc[row_indexer,col_indexer] = value instead\n",
      "\n",
      "See the caveats in the documentation: https://pandas.pydata.org/pandas-docs/stable/user_guide/indexing.html#returning-a-view-versus-a-copy\n",
      "  dataset_train[column] = (dataset_train[column] - dataset_train[column].min()) / (dataset_train[column].max() - dataset_train[column].min())\n",
      "<ipython-input-68-2e4cf0d5e506>:3: SettingWithCopyWarning: \n",
      "A value is trying to be set on a copy of a slice from a DataFrame.\n",
      "Try using .loc[row_indexer,col_indexer] = value instead\n",
      "\n",
      "See the caveats in the documentation: https://pandas.pydata.org/pandas-docs/stable/user_guide/indexing.html#returning-a-view-versus-a-copy\n",
      "  dataset_train[column] = (dataset_train[column] - dataset_train[column].min()) / (dataset_train[column].max() - dataset_train[column].min())\n",
      "<ipython-input-68-2e4cf0d5e506>:3: SettingWithCopyWarning: \n",
      "A value is trying to be set on a copy of a slice from a DataFrame.\n",
      "Try using .loc[row_indexer,col_indexer] = value instead\n",
      "\n",
      "See the caveats in the documentation: https://pandas.pydata.org/pandas-docs/stable/user_guide/indexing.html#returning-a-view-versus-a-copy\n",
      "  dataset_train[column] = (dataset_train[column] - dataset_train[column].min()) / (dataset_train[column].max() - dataset_train[column].min())\n",
      "<ipython-input-68-2e4cf0d5e506>:3: SettingWithCopyWarning: \n",
      "A value is trying to be set on a copy of a slice from a DataFrame.\n",
      "Try using .loc[row_indexer,col_indexer] = value instead\n",
      "\n",
      "See the caveats in the documentation: https://pandas.pydata.org/pandas-docs/stable/user_guide/indexing.html#returning-a-view-versus-a-copy\n",
      "  dataset_train[column] = (dataset_train[column] - dataset_train[column].min()) / (dataset_train[column].max() - dataset_train[column].min())\n",
      "<ipython-input-68-2e4cf0d5e506>:3: SettingWithCopyWarning: \n",
      "A value is trying to be set on a copy of a slice from a DataFrame.\n",
      "Try using .loc[row_indexer,col_indexer] = value instead\n",
      "\n",
      "See the caveats in the documentation: https://pandas.pydata.org/pandas-docs/stable/user_guide/indexing.html#returning-a-view-versus-a-copy\n",
      "  dataset_train[column] = (dataset_train[column] - dataset_train[column].min()) / (dataset_train[column].max() - dataset_train[column].min())\n",
      "<ipython-input-68-2e4cf0d5e506>:3: SettingWithCopyWarning: \n",
      "A value is trying to be set on a copy of a slice from a DataFrame.\n",
      "Try using .loc[row_indexer,col_indexer] = value instead\n",
      "\n",
      "See the caveats in the documentation: https://pandas.pydata.org/pandas-docs/stable/user_guide/indexing.html#returning-a-view-versus-a-copy\n",
      "  dataset_train[column] = (dataset_train[column] - dataset_train[column].min()) / (dataset_train[column].max() - dataset_train[column].min())\n",
      "<ipython-input-68-2e4cf0d5e506>:3: SettingWithCopyWarning: \n",
      "A value is trying to be set on a copy of a slice from a DataFrame.\n",
      "Try using .loc[row_indexer,col_indexer] = value instead\n",
      "\n",
      "See the caveats in the documentation: https://pandas.pydata.org/pandas-docs/stable/user_guide/indexing.html#returning-a-view-versus-a-copy\n",
      "  dataset_train[column] = (dataset_train[column] - dataset_train[column].min()) / (dataset_train[column].max() - dataset_train[column].min())\n",
      "<ipython-input-68-2e4cf0d5e506>:3: SettingWithCopyWarning: \n",
      "A value is trying to be set on a copy of a slice from a DataFrame.\n",
      "Try using .loc[row_indexer,col_indexer] = value instead\n",
      "\n",
      "See the caveats in the documentation: https://pandas.pydata.org/pandas-docs/stable/user_guide/indexing.html#returning-a-view-versus-a-copy\n",
      "  dataset_train[column] = (dataset_train[column] - dataset_train[column].min()) / (dataset_train[column].max() - dataset_train[column].min())\n",
      "<ipython-input-68-2e4cf0d5e506>:3: SettingWithCopyWarning: \n",
      "A value is trying to be set on a copy of a slice from a DataFrame.\n",
      "Try using .loc[row_indexer,col_indexer] = value instead\n",
      "\n",
      "See the caveats in the documentation: https://pandas.pydata.org/pandas-docs/stable/user_guide/indexing.html#returning-a-view-versus-a-copy\n",
      "  dataset_train[column] = (dataset_train[column] - dataset_train[column].min()) / (dataset_train[column].max() - dataset_train[column].min())\n",
      "<ipython-input-68-2e4cf0d5e506>:3: SettingWithCopyWarning: \n",
      "A value is trying to be set on a copy of a slice from a DataFrame.\n",
      "Try using .loc[row_indexer,col_indexer] = value instead\n",
      "\n",
      "See the caveats in the documentation: https://pandas.pydata.org/pandas-docs/stable/user_guide/indexing.html#returning-a-view-versus-a-copy\n",
      "  dataset_train[column] = (dataset_train[column] - dataset_train[column].min()) / (dataset_train[column].max() - dataset_train[column].min())\n",
      "<ipython-input-68-2e4cf0d5e506>:3: SettingWithCopyWarning: \n",
      "A value is trying to be set on a copy of a slice from a DataFrame.\n",
      "Try using .loc[row_indexer,col_indexer] = value instead\n",
      "\n",
      "See the caveats in the documentation: https://pandas.pydata.org/pandas-docs/stable/user_guide/indexing.html#returning-a-view-versus-a-copy\n",
      "  dataset_train[column] = (dataset_train[column] - dataset_train[column].min()) / (dataset_train[column].max() - dataset_train[column].min())\n",
      "<ipython-input-68-2e4cf0d5e506>:3: SettingWithCopyWarning: \n",
      "A value is trying to be set on a copy of a slice from a DataFrame.\n",
      "Try using .loc[row_indexer,col_indexer] = value instead\n",
      "\n",
      "See the caveats in the documentation: https://pandas.pydata.org/pandas-docs/stable/user_guide/indexing.html#returning-a-view-versus-a-copy\n",
      "  dataset_train[column] = (dataset_train[column] - dataset_train[column].min()) / (dataset_train[column].max() - dataset_train[column].min())\n",
      "<ipython-input-68-2e4cf0d5e506>:3: SettingWithCopyWarning: \n",
      "A value is trying to be set on a copy of a slice from a DataFrame.\n",
      "Try using .loc[row_indexer,col_indexer] = value instead\n",
      "\n",
      "See the caveats in the documentation: https://pandas.pydata.org/pandas-docs/stable/user_guide/indexing.html#returning-a-view-versus-a-copy\n",
      "  dataset_train[column] = (dataset_train[column] - dataset_train[column].min()) / (dataset_train[column].max() - dataset_train[column].min())\n",
      "<ipython-input-68-2e4cf0d5e506>:3: SettingWithCopyWarning: \n",
      "A value is trying to be set on a copy of a slice from a DataFrame.\n",
      "Try using .loc[row_indexer,col_indexer] = value instead\n",
      "\n",
      "See the caveats in the documentation: https://pandas.pydata.org/pandas-docs/stable/user_guide/indexing.html#returning-a-view-versus-a-copy\n",
      "  dataset_train[column] = (dataset_train[column] - dataset_train[column].min()) / (dataset_train[column].max() - dataset_train[column].min())\n",
      "<ipython-input-68-2e4cf0d5e506>:3: SettingWithCopyWarning: \n",
      "A value is trying to be set on a copy of a slice from a DataFrame.\n",
      "Try using .loc[row_indexer,col_indexer] = value instead\n",
      "\n",
      "See the caveats in the documentation: https://pandas.pydata.org/pandas-docs/stable/user_guide/indexing.html#returning-a-view-versus-a-copy\n",
      "  dataset_train[column] = (dataset_train[column] - dataset_train[column].min()) / (dataset_train[column].max() - dataset_train[column].min())\n",
      "<ipython-input-68-2e4cf0d5e506>:3: SettingWithCopyWarning: \n",
      "A value is trying to be set on a copy of a slice from a DataFrame.\n",
      "Try using .loc[row_indexer,col_indexer] = value instead\n",
      "\n",
      "See the caveats in the documentation: https://pandas.pydata.org/pandas-docs/stable/user_guide/indexing.html#returning-a-view-versus-a-copy\n",
      "  dataset_train[column] = (dataset_train[column] - dataset_train[column].min()) / (dataset_train[column].max() - dataset_train[column].min())\n",
      "<ipython-input-68-2e4cf0d5e506>:3: SettingWithCopyWarning: \n",
      "A value is trying to be set on a copy of a slice from a DataFrame.\n",
      "Try using .loc[row_indexer,col_indexer] = value instead\n",
      "\n",
      "See the caveats in the documentation: https://pandas.pydata.org/pandas-docs/stable/user_guide/indexing.html#returning-a-view-versus-a-copy\n",
      "  dataset_train[column] = (dataset_train[column] - dataset_train[column].min()) / (dataset_train[column].max() - dataset_train[column].min())\n",
      "<ipython-input-68-2e4cf0d5e506>:3: SettingWithCopyWarning: \n",
      "A value is trying to be set on a copy of a slice from a DataFrame.\n",
      "Try using .loc[row_indexer,col_indexer] = value instead\n",
      "\n",
      "See the caveats in the documentation: https://pandas.pydata.org/pandas-docs/stable/user_guide/indexing.html#returning-a-view-versus-a-copy\n",
      "  dataset_train[column] = (dataset_train[column] - dataset_train[column].min()) / (dataset_train[column].max() - dataset_train[column].min())\n",
      "<ipython-input-68-2e4cf0d5e506>:3: SettingWithCopyWarning: \n",
      "A value is trying to be set on a copy of a slice from a DataFrame.\n",
      "Try using .loc[row_indexer,col_indexer] = value instead\n",
      "\n",
      "See the caveats in the documentation: https://pandas.pydata.org/pandas-docs/stable/user_guide/indexing.html#returning-a-view-versus-a-copy\n",
      "  dataset_train[column] = (dataset_train[column] - dataset_train[column].min()) / (dataset_train[column].max() - dataset_train[column].min())\n",
      "<ipython-input-68-2e4cf0d5e506>:3: SettingWithCopyWarning: \n",
      "A value is trying to be set on a copy of a slice from a DataFrame.\n",
      "Try using .loc[row_indexer,col_indexer] = value instead\n",
      "\n",
      "See the caveats in the documentation: https://pandas.pydata.org/pandas-docs/stable/user_guide/indexing.html#returning-a-view-versus-a-copy\n",
      "  dataset_train[column] = (dataset_train[column] - dataset_train[column].min()) / (dataset_train[column].max() - dataset_train[column].min())\n"
     ]
    }
   ],
   "source": [
    "#of the train data\n",
    "for column in dataset_train.columns:\n",
    "    dataset_train[column] = (dataset_train[column] - dataset_train[column].min()) / (dataset_train[column].max() - dataset_train[column].min())    "
   ]
  },
  {
   "cell_type": "code",
   "execution_count": 69,
   "metadata": {},
   "outputs": [
    {
     "name": "stderr",
     "output_type": "stream",
     "text": [
      "<ipython-input-69-b63abb24013f>:3: SettingWithCopyWarning: \n",
      "A value is trying to be set on a copy of a slice from a DataFrame.\n",
      "Try using .loc[row_indexer,col_indexer] = value instead\n",
      "\n",
      "See the caveats in the documentation: https://pandas.pydata.org/pandas-docs/stable/user_guide/indexing.html#returning-a-view-versus-a-copy\n",
      "  dataset_test[column] = (dataset_test[column] - dataset_test[column].min()) / (dataset_test[column].max() - dataset_test[column].min())\n",
      "<ipython-input-69-b63abb24013f>:3: SettingWithCopyWarning: \n",
      "A value is trying to be set on a copy of a slice from a DataFrame.\n",
      "Try using .loc[row_indexer,col_indexer] = value instead\n",
      "\n",
      "See the caveats in the documentation: https://pandas.pydata.org/pandas-docs/stable/user_guide/indexing.html#returning-a-view-versus-a-copy\n",
      "  dataset_test[column] = (dataset_test[column] - dataset_test[column].min()) / (dataset_test[column].max() - dataset_test[column].min())\n",
      "<ipython-input-69-b63abb24013f>:3: SettingWithCopyWarning: \n",
      "A value is trying to be set on a copy of a slice from a DataFrame.\n",
      "Try using .loc[row_indexer,col_indexer] = value instead\n",
      "\n",
      "See the caveats in the documentation: https://pandas.pydata.org/pandas-docs/stable/user_guide/indexing.html#returning-a-view-versus-a-copy\n",
      "  dataset_test[column] = (dataset_test[column] - dataset_test[column].min()) / (dataset_test[column].max() - dataset_test[column].min())\n",
      "<ipython-input-69-b63abb24013f>:3: SettingWithCopyWarning: \n",
      "A value is trying to be set on a copy of a slice from a DataFrame.\n",
      "Try using .loc[row_indexer,col_indexer] = value instead\n",
      "\n",
      "See the caveats in the documentation: https://pandas.pydata.org/pandas-docs/stable/user_guide/indexing.html#returning-a-view-versus-a-copy\n",
      "  dataset_test[column] = (dataset_test[column] - dataset_test[column].min()) / (dataset_test[column].max() - dataset_test[column].min())\n",
      "<ipython-input-69-b63abb24013f>:3: SettingWithCopyWarning: \n",
      "A value is trying to be set on a copy of a slice from a DataFrame.\n",
      "Try using .loc[row_indexer,col_indexer] = value instead\n",
      "\n",
      "See the caveats in the documentation: https://pandas.pydata.org/pandas-docs/stable/user_guide/indexing.html#returning-a-view-versus-a-copy\n",
      "  dataset_test[column] = (dataset_test[column] - dataset_test[column].min()) / (dataset_test[column].max() - dataset_test[column].min())\n",
      "<ipython-input-69-b63abb24013f>:3: SettingWithCopyWarning: \n",
      "A value is trying to be set on a copy of a slice from a DataFrame.\n",
      "Try using .loc[row_indexer,col_indexer] = value instead\n",
      "\n",
      "See the caveats in the documentation: https://pandas.pydata.org/pandas-docs/stable/user_guide/indexing.html#returning-a-view-versus-a-copy\n",
      "  dataset_test[column] = (dataset_test[column] - dataset_test[column].min()) / (dataset_test[column].max() - dataset_test[column].min())\n",
      "<ipython-input-69-b63abb24013f>:3: SettingWithCopyWarning: \n",
      "A value is trying to be set on a copy of a slice from a DataFrame.\n",
      "Try using .loc[row_indexer,col_indexer] = value instead\n",
      "\n",
      "See the caveats in the documentation: https://pandas.pydata.org/pandas-docs/stable/user_guide/indexing.html#returning-a-view-versus-a-copy\n",
      "  dataset_test[column] = (dataset_test[column] - dataset_test[column].min()) / (dataset_test[column].max() - dataset_test[column].min())\n",
      "<ipython-input-69-b63abb24013f>:3: SettingWithCopyWarning: \n",
      "A value is trying to be set on a copy of a slice from a DataFrame.\n",
      "Try using .loc[row_indexer,col_indexer] = value instead\n",
      "\n",
      "See the caveats in the documentation: https://pandas.pydata.org/pandas-docs/stable/user_guide/indexing.html#returning-a-view-versus-a-copy\n",
      "  dataset_test[column] = (dataset_test[column] - dataset_test[column].min()) / (dataset_test[column].max() - dataset_test[column].min())\n",
      "<ipython-input-69-b63abb24013f>:3: SettingWithCopyWarning: \n",
      "A value is trying to be set on a copy of a slice from a DataFrame.\n",
      "Try using .loc[row_indexer,col_indexer] = value instead\n",
      "\n",
      "See the caveats in the documentation: https://pandas.pydata.org/pandas-docs/stable/user_guide/indexing.html#returning-a-view-versus-a-copy\n",
      "  dataset_test[column] = (dataset_test[column] - dataset_test[column].min()) / (dataset_test[column].max() - dataset_test[column].min())\n",
      "<ipython-input-69-b63abb24013f>:3: SettingWithCopyWarning: \n",
      "A value is trying to be set on a copy of a slice from a DataFrame.\n",
      "Try using .loc[row_indexer,col_indexer] = value instead\n",
      "\n",
      "See the caveats in the documentation: https://pandas.pydata.org/pandas-docs/stable/user_guide/indexing.html#returning-a-view-versus-a-copy\n",
      "  dataset_test[column] = (dataset_test[column] - dataset_test[column].min()) / (dataset_test[column].max() - dataset_test[column].min())\n",
      "<ipython-input-69-b63abb24013f>:3: SettingWithCopyWarning: \n",
      "A value is trying to be set on a copy of a slice from a DataFrame.\n",
      "Try using .loc[row_indexer,col_indexer] = value instead\n",
      "\n",
      "See the caveats in the documentation: https://pandas.pydata.org/pandas-docs/stable/user_guide/indexing.html#returning-a-view-versus-a-copy\n",
      "  dataset_test[column] = (dataset_test[column] - dataset_test[column].min()) / (dataset_test[column].max() - dataset_test[column].min())\n",
      "<ipython-input-69-b63abb24013f>:3: SettingWithCopyWarning: \n",
      "A value is trying to be set on a copy of a slice from a DataFrame.\n",
      "Try using .loc[row_indexer,col_indexer] = value instead\n",
      "\n",
      "See the caveats in the documentation: https://pandas.pydata.org/pandas-docs/stable/user_guide/indexing.html#returning-a-view-versus-a-copy\n",
      "  dataset_test[column] = (dataset_test[column] - dataset_test[column].min()) / (dataset_test[column].max() - dataset_test[column].min())\n",
      "<ipython-input-69-b63abb24013f>:3: SettingWithCopyWarning: \n",
      "A value is trying to be set on a copy of a slice from a DataFrame.\n",
      "Try using .loc[row_indexer,col_indexer] = value instead\n",
      "\n",
      "See the caveats in the documentation: https://pandas.pydata.org/pandas-docs/stable/user_guide/indexing.html#returning-a-view-versus-a-copy\n",
      "  dataset_test[column] = (dataset_test[column] - dataset_test[column].min()) / (dataset_test[column].max() - dataset_test[column].min())\n",
      "<ipython-input-69-b63abb24013f>:3: SettingWithCopyWarning: \n",
      "A value is trying to be set on a copy of a slice from a DataFrame.\n",
      "Try using .loc[row_indexer,col_indexer] = value instead\n",
      "\n",
      "See the caveats in the documentation: https://pandas.pydata.org/pandas-docs/stable/user_guide/indexing.html#returning-a-view-versus-a-copy\n",
      "  dataset_test[column] = (dataset_test[column] - dataset_test[column].min()) / (dataset_test[column].max() - dataset_test[column].min())\n",
      "<ipython-input-69-b63abb24013f>:3: SettingWithCopyWarning: \n",
      "A value is trying to be set on a copy of a slice from a DataFrame.\n",
      "Try using .loc[row_indexer,col_indexer] = value instead\n",
      "\n",
      "See the caveats in the documentation: https://pandas.pydata.org/pandas-docs/stable/user_guide/indexing.html#returning-a-view-versus-a-copy\n",
      "  dataset_test[column] = (dataset_test[column] - dataset_test[column].min()) / (dataset_test[column].max() - dataset_test[column].min())\n",
      "<ipython-input-69-b63abb24013f>:3: SettingWithCopyWarning: \n",
      "A value is trying to be set on a copy of a slice from a DataFrame.\n",
      "Try using .loc[row_indexer,col_indexer] = value instead\n",
      "\n",
      "See the caveats in the documentation: https://pandas.pydata.org/pandas-docs/stable/user_guide/indexing.html#returning-a-view-versus-a-copy\n",
      "  dataset_test[column] = (dataset_test[column] - dataset_test[column].min()) / (dataset_test[column].max() - dataset_test[column].min())\n",
      "<ipython-input-69-b63abb24013f>:3: SettingWithCopyWarning: \n",
      "A value is trying to be set on a copy of a slice from a DataFrame.\n",
      "Try using .loc[row_indexer,col_indexer] = value instead\n",
      "\n",
      "See the caveats in the documentation: https://pandas.pydata.org/pandas-docs/stable/user_guide/indexing.html#returning-a-view-versus-a-copy\n",
      "  dataset_test[column] = (dataset_test[column] - dataset_test[column].min()) / (dataset_test[column].max() - dataset_test[column].min())\n",
      "<ipython-input-69-b63abb24013f>:3: SettingWithCopyWarning: \n",
      "A value is trying to be set on a copy of a slice from a DataFrame.\n",
      "Try using .loc[row_indexer,col_indexer] = value instead\n",
      "\n",
      "See the caveats in the documentation: https://pandas.pydata.org/pandas-docs/stable/user_guide/indexing.html#returning-a-view-versus-a-copy\n",
      "  dataset_test[column] = (dataset_test[column] - dataset_test[column].min()) / (dataset_test[column].max() - dataset_test[column].min())\n",
      "<ipython-input-69-b63abb24013f>:3: SettingWithCopyWarning: \n",
      "A value is trying to be set on a copy of a slice from a DataFrame.\n",
      "Try using .loc[row_indexer,col_indexer] = value instead\n",
      "\n",
      "See the caveats in the documentation: https://pandas.pydata.org/pandas-docs/stable/user_guide/indexing.html#returning-a-view-versus-a-copy\n",
      "  dataset_test[column] = (dataset_test[column] - dataset_test[column].min()) / (dataset_test[column].max() - dataset_test[column].min())\n",
      "<ipython-input-69-b63abb24013f>:3: SettingWithCopyWarning: \n",
      "A value is trying to be set on a copy of a slice from a DataFrame.\n",
      "Try using .loc[row_indexer,col_indexer] = value instead\n",
      "\n",
      "See the caveats in the documentation: https://pandas.pydata.org/pandas-docs/stable/user_guide/indexing.html#returning-a-view-versus-a-copy\n",
      "  dataset_test[column] = (dataset_test[column] - dataset_test[column].min()) / (dataset_test[column].max() - dataset_test[column].min())\n",
      "<ipython-input-69-b63abb24013f>:3: SettingWithCopyWarning: \n",
      "A value is trying to be set on a copy of a slice from a DataFrame.\n",
      "Try using .loc[row_indexer,col_indexer] = value instead\n",
      "\n",
      "See the caveats in the documentation: https://pandas.pydata.org/pandas-docs/stable/user_guide/indexing.html#returning-a-view-versus-a-copy\n",
      "  dataset_test[column] = (dataset_test[column] - dataset_test[column].min()) / (dataset_test[column].max() - dataset_test[column].min())\n",
      "<ipython-input-69-b63abb24013f>:3: SettingWithCopyWarning: \n",
      "A value is trying to be set on a copy of a slice from a DataFrame.\n",
      "Try using .loc[row_indexer,col_indexer] = value instead\n",
      "\n",
      "See the caveats in the documentation: https://pandas.pydata.org/pandas-docs/stable/user_guide/indexing.html#returning-a-view-versus-a-copy\n",
      "  dataset_test[column] = (dataset_test[column] - dataset_test[column].min()) / (dataset_test[column].max() - dataset_test[column].min())\n",
      "<ipython-input-69-b63abb24013f>:3: SettingWithCopyWarning: \n",
      "A value is trying to be set on a copy of a slice from a DataFrame.\n",
      "Try using .loc[row_indexer,col_indexer] = value instead\n",
      "\n",
      "See the caveats in the documentation: https://pandas.pydata.org/pandas-docs/stable/user_guide/indexing.html#returning-a-view-versus-a-copy\n",
      "  dataset_test[column] = (dataset_test[column] - dataset_test[column].min()) / (dataset_test[column].max() - dataset_test[column].min())\n",
      "<ipython-input-69-b63abb24013f>:3: SettingWithCopyWarning: \n",
      "A value is trying to be set on a copy of a slice from a DataFrame.\n",
      "Try using .loc[row_indexer,col_indexer] = value instead\n",
      "\n",
      "See the caveats in the documentation: https://pandas.pydata.org/pandas-docs/stable/user_guide/indexing.html#returning-a-view-versus-a-copy\n",
      "  dataset_test[column] = (dataset_test[column] - dataset_test[column].min()) / (dataset_test[column].max() - dataset_test[column].min())\n",
      "<ipython-input-69-b63abb24013f>:3: SettingWithCopyWarning: \n",
      "A value is trying to be set on a copy of a slice from a DataFrame.\n",
      "Try using .loc[row_indexer,col_indexer] = value instead\n",
      "\n",
      "See the caveats in the documentation: https://pandas.pydata.org/pandas-docs/stable/user_guide/indexing.html#returning-a-view-versus-a-copy\n",
      "  dataset_test[column] = (dataset_test[column] - dataset_test[column].min()) / (dataset_test[column].max() - dataset_test[column].min())\n",
      "<ipython-input-69-b63abb24013f>:3: SettingWithCopyWarning: \n",
      "A value is trying to be set on a copy of a slice from a DataFrame.\n",
      "Try using .loc[row_indexer,col_indexer] = value instead\n",
      "\n",
      "See the caveats in the documentation: https://pandas.pydata.org/pandas-docs/stable/user_guide/indexing.html#returning-a-view-versus-a-copy\n",
      "  dataset_test[column] = (dataset_test[column] - dataset_test[column].min()) / (dataset_test[column].max() - dataset_test[column].min())\n",
      "<ipython-input-69-b63abb24013f>:3: SettingWithCopyWarning: \n",
      "A value is trying to be set on a copy of a slice from a DataFrame.\n",
      "Try using .loc[row_indexer,col_indexer] = value instead\n",
      "\n",
      "See the caveats in the documentation: https://pandas.pydata.org/pandas-docs/stable/user_guide/indexing.html#returning-a-view-versus-a-copy\n",
      "  dataset_test[column] = (dataset_test[column] - dataset_test[column].min()) / (dataset_test[column].max() - dataset_test[column].min())\n",
      "<ipython-input-69-b63abb24013f>:3: SettingWithCopyWarning: \n",
      "A value is trying to be set on a copy of a slice from a DataFrame.\n",
      "Try using .loc[row_indexer,col_indexer] = value instead\n",
      "\n",
      "See the caveats in the documentation: https://pandas.pydata.org/pandas-docs/stable/user_guide/indexing.html#returning-a-view-versus-a-copy\n",
      "  dataset_test[column] = (dataset_test[column] - dataset_test[column].min()) / (dataset_test[column].max() - dataset_test[column].min())\n",
      "<ipython-input-69-b63abb24013f>:3: SettingWithCopyWarning: \n",
      "A value is trying to be set on a copy of a slice from a DataFrame.\n",
      "Try using .loc[row_indexer,col_indexer] = value instead\n",
      "\n",
      "See the caveats in the documentation: https://pandas.pydata.org/pandas-docs/stable/user_guide/indexing.html#returning-a-view-versus-a-copy\n",
      "  dataset_test[column] = (dataset_test[column] - dataset_test[column].min()) / (dataset_test[column].max() - dataset_test[column].min())\n",
      "<ipython-input-69-b63abb24013f>:3: SettingWithCopyWarning: \n",
      "A value is trying to be set on a copy of a slice from a DataFrame.\n",
      "Try using .loc[row_indexer,col_indexer] = value instead\n",
      "\n",
      "See the caveats in the documentation: https://pandas.pydata.org/pandas-docs/stable/user_guide/indexing.html#returning-a-view-versus-a-copy\n",
      "  dataset_test[column] = (dataset_test[column] - dataset_test[column].min()) / (dataset_test[column].max() - dataset_test[column].min())\n",
      "<ipython-input-69-b63abb24013f>:3: SettingWithCopyWarning: \n",
      "A value is trying to be set on a copy of a slice from a DataFrame.\n",
      "Try using .loc[row_indexer,col_indexer] = value instead\n",
      "\n",
      "See the caveats in the documentation: https://pandas.pydata.org/pandas-docs/stable/user_guide/indexing.html#returning-a-view-versus-a-copy\n",
      "  dataset_test[column] = (dataset_test[column] - dataset_test[column].min()) / (dataset_test[column].max() - dataset_test[column].min())\n",
      "<ipython-input-69-b63abb24013f>:3: SettingWithCopyWarning: \n",
      "A value is trying to be set on a copy of a slice from a DataFrame.\n",
      "Try using .loc[row_indexer,col_indexer] = value instead\n",
      "\n",
      "See the caveats in the documentation: https://pandas.pydata.org/pandas-docs/stable/user_guide/indexing.html#returning-a-view-versus-a-copy\n",
      "  dataset_test[column] = (dataset_test[column] - dataset_test[column].min()) / (dataset_test[column].max() - dataset_test[column].min())\n",
      "<ipython-input-69-b63abb24013f>:3: SettingWithCopyWarning: \n",
      "A value is trying to be set on a copy of a slice from a DataFrame.\n",
      "Try using .loc[row_indexer,col_indexer] = value instead\n",
      "\n",
      "See the caveats in the documentation: https://pandas.pydata.org/pandas-docs/stable/user_guide/indexing.html#returning-a-view-versus-a-copy\n",
      "  dataset_test[column] = (dataset_test[column] - dataset_test[column].min()) / (dataset_test[column].max() - dataset_test[column].min())\n",
      "<ipython-input-69-b63abb24013f>:3: SettingWithCopyWarning: \n",
      "A value is trying to be set on a copy of a slice from a DataFrame.\n",
      "Try using .loc[row_indexer,col_indexer] = value instead\n",
      "\n",
      "See the caveats in the documentation: https://pandas.pydata.org/pandas-docs/stable/user_guide/indexing.html#returning-a-view-versus-a-copy\n",
      "  dataset_test[column] = (dataset_test[column] - dataset_test[column].min()) / (dataset_test[column].max() - dataset_test[column].min())\n",
      "<ipython-input-69-b63abb24013f>:3: SettingWithCopyWarning: \n",
      "A value is trying to be set on a copy of a slice from a DataFrame.\n",
      "Try using .loc[row_indexer,col_indexer] = value instead\n",
      "\n",
      "See the caveats in the documentation: https://pandas.pydata.org/pandas-docs/stable/user_guide/indexing.html#returning-a-view-versus-a-copy\n",
      "  dataset_test[column] = (dataset_test[column] - dataset_test[column].min()) / (dataset_test[column].max() - dataset_test[column].min())\n",
      "<ipython-input-69-b63abb24013f>:3: SettingWithCopyWarning: \n",
      "A value is trying to be set on a copy of a slice from a DataFrame.\n",
      "Try using .loc[row_indexer,col_indexer] = value instead\n",
      "\n",
      "See the caveats in the documentation: https://pandas.pydata.org/pandas-docs/stable/user_guide/indexing.html#returning-a-view-versus-a-copy\n",
      "  dataset_test[column] = (dataset_test[column] - dataset_test[column].min()) / (dataset_test[column].max() - dataset_test[column].min())\n",
      "<ipython-input-69-b63abb24013f>:3: SettingWithCopyWarning: \n",
      "A value is trying to be set on a copy of a slice from a DataFrame.\n",
      "Try using .loc[row_indexer,col_indexer] = value instead\n",
      "\n",
      "See the caveats in the documentation: https://pandas.pydata.org/pandas-docs/stable/user_guide/indexing.html#returning-a-view-versus-a-copy\n",
      "  dataset_test[column] = (dataset_test[column] - dataset_test[column].min()) / (dataset_test[column].max() - dataset_test[column].min())\n",
      "<ipython-input-69-b63abb24013f>:3: SettingWithCopyWarning: \n",
      "A value is trying to be set on a copy of a slice from a DataFrame.\n",
      "Try using .loc[row_indexer,col_indexer] = value instead\n",
      "\n",
      "See the caveats in the documentation: https://pandas.pydata.org/pandas-docs/stable/user_guide/indexing.html#returning-a-view-versus-a-copy\n",
      "  dataset_test[column] = (dataset_test[column] - dataset_test[column].min()) / (dataset_test[column].max() - dataset_test[column].min())\n",
      "<ipython-input-69-b63abb24013f>:3: SettingWithCopyWarning: \n",
      "A value is trying to be set on a copy of a slice from a DataFrame.\n",
      "Try using .loc[row_indexer,col_indexer] = value instead\n",
      "\n",
      "See the caveats in the documentation: https://pandas.pydata.org/pandas-docs/stable/user_guide/indexing.html#returning-a-view-versus-a-copy\n",
      "  dataset_test[column] = (dataset_test[column] - dataset_test[column].min()) / (dataset_test[column].max() - dataset_test[column].min())\n",
      "<ipython-input-69-b63abb24013f>:3: SettingWithCopyWarning: \n",
      "A value is trying to be set on a copy of a slice from a DataFrame.\n",
      "Try using .loc[row_indexer,col_indexer] = value instead\n",
      "\n",
      "See the caveats in the documentation: https://pandas.pydata.org/pandas-docs/stable/user_guide/indexing.html#returning-a-view-versus-a-copy\n",
      "  dataset_test[column] = (dataset_test[column] - dataset_test[column].min()) / (dataset_test[column].max() - dataset_test[column].min())\n",
      "<ipython-input-69-b63abb24013f>:3: SettingWithCopyWarning: \n",
      "A value is trying to be set on a copy of a slice from a DataFrame.\n",
      "Try using .loc[row_indexer,col_indexer] = value instead\n",
      "\n",
      "See the caveats in the documentation: https://pandas.pydata.org/pandas-docs/stable/user_guide/indexing.html#returning-a-view-versus-a-copy\n",
      "  dataset_test[column] = (dataset_test[column] - dataset_test[column].min()) / (dataset_test[column].max() - dataset_test[column].min())\n",
      "<ipython-input-69-b63abb24013f>:3: SettingWithCopyWarning: \n",
      "A value is trying to be set on a copy of a slice from a DataFrame.\n",
      "Try using .loc[row_indexer,col_indexer] = value instead\n",
      "\n",
      "See the caveats in the documentation: https://pandas.pydata.org/pandas-docs/stable/user_guide/indexing.html#returning-a-view-versus-a-copy\n",
      "  dataset_test[column] = (dataset_test[column] - dataset_test[column].min()) / (dataset_test[column].max() - dataset_test[column].min())\n",
      "<ipython-input-69-b63abb24013f>:3: SettingWithCopyWarning: \n",
      "A value is trying to be set on a copy of a slice from a DataFrame.\n",
      "Try using .loc[row_indexer,col_indexer] = value instead\n",
      "\n",
      "See the caveats in the documentation: https://pandas.pydata.org/pandas-docs/stable/user_guide/indexing.html#returning-a-view-versus-a-copy\n",
      "  dataset_test[column] = (dataset_test[column] - dataset_test[column].min()) / (dataset_test[column].max() - dataset_test[column].min())\n",
      "<ipython-input-69-b63abb24013f>:3: SettingWithCopyWarning: \n",
      "A value is trying to be set on a copy of a slice from a DataFrame.\n",
      "Try using .loc[row_indexer,col_indexer] = value instead\n",
      "\n",
      "See the caveats in the documentation: https://pandas.pydata.org/pandas-docs/stable/user_guide/indexing.html#returning-a-view-versus-a-copy\n",
      "  dataset_test[column] = (dataset_test[column] - dataset_test[column].min()) / (dataset_test[column].max() - dataset_test[column].min())\n",
      "<ipython-input-69-b63abb24013f>:3: SettingWithCopyWarning: \n",
      "A value is trying to be set on a copy of a slice from a DataFrame.\n",
      "Try using .loc[row_indexer,col_indexer] = value instead\n",
      "\n",
      "See the caveats in the documentation: https://pandas.pydata.org/pandas-docs/stable/user_guide/indexing.html#returning-a-view-versus-a-copy\n",
      "  dataset_test[column] = (dataset_test[column] - dataset_test[column].min()) / (dataset_test[column].max() - dataset_test[column].min())\n",
      "<ipython-input-69-b63abb24013f>:3: SettingWithCopyWarning: \n",
      "A value is trying to be set on a copy of a slice from a DataFrame.\n",
      "Try using .loc[row_indexer,col_indexer] = value instead\n",
      "\n",
      "See the caveats in the documentation: https://pandas.pydata.org/pandas-docs/stable/user_guide/indexing.html#returning-a-view-versus-a-copy\n",
      "  dataset_test[column] = (dataset_test[column] - dataset_test[column].min()) / (dataset_test[column].max() - dataset_test[column].min())\n",
      "<ipython-input-69-b63abb24013f>:3: SettingWithCopyWarning: \n",
      "A value is trying to be set on a copy of a slice from a DataFrame.\n",
      "Try using .loc[row_indexer,col_indexer] = value instead\n",
      "\n",
      "See the caveats in the documentation: https://pandas.pydata.org/pandas-docs/stable/user_guide/indexing.html#returning-a-view-versus-a-copy\n",
      "  dataset_test[column] = (dataset_test[column] - dataset_test[column].min()) / (dataset_test[column].max() - dataset_test[column].min())\n"
     ]
    }
   ],
   "source": [
    "#of the test data\n",
    "for column in dataset_test.columns:\n",
    "    dataset_test[column] = (dataset_test[column] - dataset_test[column].min()) / (dataset_test[column].max() - dataset_test[column].min())    "
   ]
  },
  {
   "cell_type": "markdown",
   "metadata": {},
   "source": [
    "### Splitting the train into train and validate"
   ]
  },
  {
   "cell_type": "code",
   "execution_count": 70,
   "metadata": {},
   "outputs": [],
   "source": [
    "dataset_train_v2, dataset_validation = train_test_split(dataset_train, test_size = 0.2, random_state = 0)"
   ]
  },
  {
   "cell_type": "markdown",
   "metadata": {},
   "source": [
    "### preparing the features and the target\n"
   ]
  },
  {
   "cell_type": "code",
   "execution_count": 71,
   "metadata": {},
   "outputs": [
    {
     "data": {
      "text/html": [
       "<div>\n",
       "<style scoped>\n",
       "    .dataframe tbody tr th:only-of-type {\n",
       "        vertical-align: middle;\n",
       "    }\n",
       "\n",
       "    .dataframe tbody tr th {\n",
       "        vertical-align: top;\n",
       "    }\n",
       "\n",
       "    .dataframe thead th {\n",
       "        text-align: right;\n",
       "    }\n",
       "</style>\n",
       "<table border=\"1\" class=\"dataframe\">\n",
       "  <thead>\n",
       "    <tr style=\"text-align: right;\">\n",
       "      <th></th>\n",
       "      <th>no_of_trainings</th>\n",
       "      <th>age</th>\n",
       "      <th>previous_year_rating</th>\n",
       "      <th>length_of_service</th>\n",
       "      <th>KPIs_met &gt;80%</th>\n",
       "      <th>awards_won?</th>\n",
       "      <th>avg_training_score</th>\n",
       "      <th>department_Analytics</th>\n",
       "      <th>department_Finance</th>\n",
       "      <th>department_HR</th>\n",
       "      <th>...</th>\n",
       "      <th>region_region_34</th>\n",
       "      <th>region_region_4</th>\n",
       "      <th>region_region_5</th>\n",
       "      <th>region_region_6</th>\n",
       "      <th>region_region_7</th>\n",
       "      <th>region_region_8</th>\n",
       "      <th>region_region_9</th>\n",
       "      <th>recruitment_channel_other</th>\n",
       "      <th>recruitment_channel_referred</th>\n",
       "      <th>recruitment_channel_sourcing</th>\n",
       "    </tr>\n",
       "  </thead>\n",
       "  <tbody>\n",
       "    <tr>\n",
       "      <th>80653</th>\n",
       "      <td>0.0</td>\n",
       "      <td>0.375</td>\n",
       "      <td>1.0</td>\n",
       "      <td>0.166667</td>\n",
       "      <td>0.0</td>\n",
       "      <td>0.0</td>\n",
       "      <td>0.800000</td>\n",
       "      <td>0.0</td>\n",
       "      <td>0.0</td>\n",
       "      <td>0.0</td>\n",
       "      <td>...</td>\n",
       "      <td>0.0</td>\n",
       "      <td>0.0</td>\n",
       "      <td>0.0</td>\n",
       "      <td>0.0</td>\n",
       "      <td>0.0</td>\n",
       "      <td>0.0</td>\n",
       "      <td>0.0</td>\n",
       "      <td>0.0</td>\n",
       "      <td>0.0</td>\n",
       "      <td>1.0</td>\n",
       "    </tr>\n",
       "    <tr>\n",
       "      <th>63614</th>\n",
       "      <td>0.0</td>\n",
       "      <td>0.275</td>\n",
       "      <td>0.5</td>\n",
       "      <td>0.055556</td>\n",
       "      <td>1.0</td>\n",
       "      <td>0.0</td>\n",
       "      <td>0.333333</td>\n",
       "      <td>0.0</td>\n",
       "      <td>0.0</td>\n",
       "      <td>0.0</td>\n",
       "      <td>...</td>\n",
       "      <td>0.0</td>\n",
       "      <td>0.0</td>\n",
       "      <td>0.0</td>\n",
       "      <td>0.0</td>\n",
       "      <td>0.0</td>\n",
       "      <td>0.0</td>\n",
       "      <td>0.0</td>\n",
       "      <td>1.0</td>\n",
       "      <td>0.0</td>\n",
       "      <td>0.0</td>\n",
       "    </tr>\n",
       "  </tbody>\n",
       "</table>\n",
       "<p>2 rows × 53 columns</p>\n",
       "</div>"
      ],
      "text/plain": [
       "       no_of_trainings    age  previous_year_rating  length_of_service  \\\n",
       "80653              0.0  0.375                   1.0           0.166667   \n",
       "63614              0.0  0.275                   0.5           0.055556   \n",
       "\n",
       "       KPIs_met >80%  awards_won?  avg_training_score  department_Analytics  \\\n",
       "80653            0.0          0.0            0.800000                   0.0   \n",
       "63614            1.0          0.0            0.333333                   0.0   \n",
       "\n",
       "       department_Finance  department_HR  ...  region_region_34  \\\n",
       "80653                 0.0            0.0  ...               0.0   \n",
       "63614                 0.0            0.0  ...               0.0   \n",
       "\n",
       "       region_region_4  region_region_5  region_region_6  region_region_7  \\\n",
       "80653              0.0              0.0              0.0              0.0   \n",
       "63614              0.0              0.0              0.0              0.0   \n",
       "\n",
       "       region_region_8  region_region_9  recruitment_channel_other  \\\n",
       "80653              0.0              0.0                        0.0   \n",
       "63614              0.0              0.0                        1.0   \n",
       "\n",
       "       recruitment_channel_referred  recruitment_channel_sourcing  \n",
       "80653                           0.0                           1.0  \n",
       "63614                           0.0                           0.0  \n",
       "\n",
       "[2 rows x 53 columns]"
      ]
     },
     "execution_count": 71,
     "metadata": {},
     "output_type": "execute_result"
    }
   ],
   "source": [
    "X_train = dataset_train_v2.drop(['is_promoted'],axis=1)\n",
    "y_train = dataset_train_v2['is_promoted']\n",
    "\n",
    "X_train.head(2)"
   ]
  },
  {
   "cell_type": "code",
   "execution_count": 72,
   "metadata": {},
   "outputs": [
    {
     "data": {
      "text/html": [
       "<div>\n",
       "<style scoped>\n",
       "    .dataframe tbody tr th:only-of-type {\n",
       "        vertical-align: middle;\n",
       "    }\n",
       "\n",
       "    .dataframe tbody tr th {\n",
       "        vertical-align: top;\n",
       "    }\n",
       "\n",
       "    .dataframe thead th {\n",
       "        text-align: right;\n",
       "    }\n",
       "</style>\n",
       "<table border=\"1\" class=\"dataframe\">\n",
       "  <thead>\n",
       "    <tr style=\"text-align: right;\">\n",
       "      <th></th>\n",
       "      <th>no_of_trainings</th>\n",
       "      <th>age</th>\n",
       "      <th>previous_year_rating</th>\n",
       "      <th>length_of_service</th>\n",
       "      <th>KPIs_met &gt;80%</th>\n",
       "      <th>awards_won?</th>\n",
       "      <th>avg_training_score</th>\n",
       "      <th>department_Analytics</th>\n",
       "      <th>department_Finance</th>\n",
       "      <th>department_HR</th>\n",
       "      <th>...</th>\n",
       "      <th>region_region_34</th>\n",
       "      <th>region_region_4</th>\n",
       "      <th>region_region_5</th>\n",
       "      <th>region_region_6</th>\n",
       "      <th>region_region_7</th>\n",
       "      <th>region_region_8</th>\n",
       "      <th>region_region_9</th>\n",
       "      <th>recruitment_channel_other</th>\n",
       "      <th>recruitment_channel_referred</th>\n",
       "      <th>recruitment_channel_sourcing</th>\n",
       "    </tr>\n",
       "  </thead>\n",
       "  <tbody>\n",
       "    <tr>\n",
       "      <th>85789</th>\n",
       "      <td>0.111111</td>\n",
       "      <td>0.300</td>\n",
       "      <td>0.5</td>\n",
       "      <td>0.083333</td>\n",
       "      <td>1.0</td>\n",
       "      <td>0.0</td>\n",
       "      <td>0.333333</td>\n",
       "      <td>0.0</td>\n",
       "      <td>0.0</td>\n",
       "      <td>0.0</td>\n",
       "      <td>...</td>\n",
       "      <td>0.0</td>\n",
       "      <td>0.0</td>\n",
       "      <td>0.0</td>\n",
       "      <td>0.0</td>\n",
       "      <td>0.0</td>\n",
       "      <td>0.0</td>\n",
       "      <td>0.0</td>\n",
       "      <td>0.0</td>\n",
       "      <td>0.0</td>\n",
       "      <td>0.0</td>\n",
       "    </tr>\n",
       "    <tr>\n",
       "      <th>29791</th>\n",
       "      <td>0.000000</td>\n",
       "      <td>0.375</td>\n",
       "      <td>0.5</td>\n",
       "      <td>0.250000</td>\n",
       "      <td>0.0</td>\n",
       "      <td>0.0</td>\n",
       "      <td>0.133333</td>\n",
       "      <td>0.0</td>\n",
       "      <td>0.0</td>\n",
       "      <td>0.0</td>\n",
       "      <td>...</td>\n",
       "      <td>0.0</td>\n",
       "      <td>0.0</td>\n",
       "      <td>0.0</td>\n",
       "      <td>0.0</td>\n",
       "      <td>0.0</td>\n",
       "      <td>0.0</td>\n",
       "      <td>0.0</td>\n",
       "      <td>0.0</td>\n",
       "      <td>0.0</td>\n",
       "      <td>1.0</td>\n",
       "    </tr>\n",
       "  </tbody>\n",
       "</table>\n",
       "<p>2 rows × 53 columns</p>\n",
       "</div>"
      ],
      "text/plain": [
       "       no_of_trainings    age  previous_year_rating  length_of_service  \\\n",
       "85789         0.111111  0.300                   0.5           0.083333   \n",
       "29791         0.000000  0.375                   0.5           0.250000   \n",
       "\n",
       "       KPIs_met >80%  awards_won?  avg_training_score  department_Analytics  \\\n",
       "85789            1.0          0.0            0.333333                   0.0   \n",
       "29791            0.0          0.0            0.133333                   0.0   \n",
       "\n",
       "       department_Finance  department_HR  ...  region_region_34  \\\n",
       "85789                 0.0            0.0  ...               0.0   \n",
       "29791                 0.0            0.0  ...               0.0   \n",
       "\n",
       "       region_region_4  region_region_5  region_region_6  region_region_7  \\\n",
       "85789              0.0              0.0              0.0              0.0   \n",
       "29791              0.0              0.0              0.0              0.0   \n",
       "\n",
       "       region_region_8  region_region_9  recruitment_channel_other  \\\n",
       "85789              0.0              0.0                        0.0   \n",
       "29791              0.0              0.0                        0.0   \n",
       "\n",
       "       recruitment_channel_referred  recruitment_channel_sourcing  \n",
       "85789                           0.0                           0.0  \n",
       "29791                           0.0                           1.0  \n",
       "\n",
       "[2 rows x 53 columns]"
      ]
     },
     "execution_count": 72,
     "metadata": {},
     "output_type": "execute_result"
    }
   ],
   "source": [
    "X_valid = dataset_validation.drop(['is_promoted'],axis=1)\n",
    "y_valid = dataset_validation['is_promoted']\n",
    "\n",
    "X_valid.head(2)"
   ]
  },
  {
   "cell_type": "code",
   "execution_count": 73,
   "metadata": {},
   "outputs": [
    {
     "data": {
      "text/html": [
       "<div>\n",
       "<style scoped>\n",
       "    .dataframe tbody tr th:only-of-type {\n",
       "        vertical-align: middle;\n",
       "    }\n",
       "\n",
       "    .dataframe tbody tr th {\n",
       "        vertical-align: top;\n",
       "    }\n",
       "\n",
       "    .dataframe thead th {\n",
       "        text-align: right;\n",
       "    }\n",
       "</style>\n",
       "<table border=\"1\" class=\"dataframe\">\n",
       "  <thead>\n",
       "    <tr style=\"text-align: right;\">\n",
       "      <th></th>\n",
       "      <th>no_of_trainings</th>\n",
       "      <th>age</th>\n",
       "      <th>previous_year_rating</th>\n",
       "      <th>length_of_service</th>\n",
       "      <th>KPIs_met &gt;80%</th>\n",
       "      <th>awards_won?</th>\n",
       "      <th>avg_training_score</th>\n",
       "      <th>department_Analytics</th>\n",
       "      <th>department_Finance</th>\n",
       "      <th>department_HR</th>\n",
       "      <th>...</th>\n",
       "      <th>region_region_34</th>\n",
       "      <th>region_region_4</th>\n",
       "      <th>region_region_5</th>\n",
       "      <th>region_region_6</th>\n",
       "      <th>region_region_7</th>\n",
       "      <th>region_region_8</th>\n",
       "      <th>region_region_9</th>\n",
       "      <th>recruitment_channel_other</th>\n",
       "      <th>recruitment_channel_referred</th>\n",
       "      <th>recruitment_channel_sourcing</th>\n",
       "    </tr>\n",
       "  </thead>\n",
       "  <tbody>\n",
       "    <tr>\n",
       "      <th>92988</th>\n",
       "      <td>0.0</td>\n",
       "      <td>0.6</td>\n",
       "      <td>1.0</td>\n",
       "      <td>0.151515</td>\n",
       "      <td>0.0</td>\n",
       "      <td>0.0</td>\n",
       "      <td>0.881356</td>\n",
       "      <td>0.0</td>\n",
       "      <td>0.0</td>\n",
       "      <td>0.0</td>\n",
       "      <td>...</td>\n",
       "      <td>0.0</td>\n",
       "      <td>0.0</td>\n",
       "      <td>0.0</td>\n",
       "      <td>0.0</td>\n",
       "      <td>0.0</td>\n",
       "      <td>0.0</td>\n",
       "      <td>0.0</td>\n",
       "      <td>1.0</td>\n",
       "      <td>0.0</td>\n",
       "      <td>0.0</td>\n",
       "    </tr>\n",
       "    <tr>\n",
       "      <th>77138</th>\n",
       "      <td>0.0</td>\n",
       "      <td>0.4</td>\n",
       "      <td>1.0</td>\n",
       "      <td>0.090909</td>\n",
       "      <td>0.0</td>\n",
       "      <td>0.0</td>\n",
       "      <td>0.474576</td>\n",
       "      <td>0.0</td>\n",
       "      <td>0.0</td>\n",
       "      <td>0.0</td>\n",
       "      <td>...</td>\n",
       "      <td>0.0</td>\n",
       "      <td>0.0</td>\n",
       "      <td>0.0</td>\n",
       "      <td>0.0</td>\n",
       "      <td>0.0</td>\n",
       "      <td>0.0</td>\n",
       "      <td>0.0</td>\n",
       "      <td>1.0</td>\n",
       "      <td>0.0</td>\n",
       "      <td>0.0</td>\n",
       "    </tr>\n",
       "  </tbody>\n",
       "</table>\n",
       "<p>2 rows × 53 columns</p>\n",
       "</div>"
      ],
      "text/plain": [
       "       no_of_trainings  age  previous_year_rating  length_of_service  \\\n",
       "92988              0.0  0.6                   1.0           0.151515   \n",
       "77138              0.0  0.4                   1.0           0.090909   \n",
       "\n",
       "       KPIs_met >80%  awards_won?  avg_training_score  department_Analytics  \\\n",
       "92988            0.0          0.0            0.881356                   0.0   \n",
       "77138            0.0          0.0            0.474576                   0.0   \n",
       "\n",
       "       department_Finance  department_HR  ...  region_region_34  \\\n",
       "92988                 0.0            0.0  ...               0.0   \n",
       "77138                 0.0            0.0  ...               0.0   \n",
       "\n",
       "       region_region_4  region_region_5  region_region_6  region_region_7  \\\n",
       "92988              0.0              0.0              0.0              0.0   \n",
       "77138              0.0              0.0              0.0              0.0   \n",
       "\n",
       "       region_region_8  region_region_9  recruitment_channel_other  \\\n",
       "92988              0.0              0.0                        1.0   \n",
       "77138              0.0              0.0                        1.0   \n",
       "\n",
       "       recruitment_channel_referred  recruitment_channel_sourcing  \n",
       "92988                           0.0                           0.0  \n",
       "77138                           0.0                           0.0  \n",
       "\n",
       "[2 rows x 53 columns]"
      ]
     },
     "execution_count": 73,
     "metadata": {},
     "output_type": "execute_result"
    }
   ],
   "source": [
    "X_test = dataset_test.drop(['is_promoted'],axis=1)\n",
    "y_test = dataset_test['is_promoted']\n",
    "\n",
    "X_test.head(2)"
   ]
  },
  {
   "cell_type": "markdown",
   "metadata": {},
   "source": [
    "# Training Models"
   ]
  },
  {
   "cell_type": "markdown",
   "metadata": {},
   "source": [
    "## SVM"
   ]
  },
  {
   "cell_type": "markdown",
   "metadata": {},
   "source": [
    "Training"
   ]
  },
  {
   "cell_type": "code",
   "execution_count": 75,
   "metadata": {},
   "outputs": [],
   "source": [
    "SVM = SVC().fit(X_train, y_train)"
   ]
  },
  {
   "cell_type": "markdown",
   "metadata": {},
   "source": [
    "Training set evaluation"
   ]
  },
  {
   "cell_type": "code",
   "execution_count": 76,
   "metadata": {},
   "outputs": [
    {
     "name": "stdout",
     "output_type": "stream",
     "text": [
      "[[31916   197]\n",
      " [ 3984 28082]]\n",
      "              precision    recall  f1-score   support\n",
      "\n",
      "         0.0       0.89      0.99      0.94     32113\n",
      "         1.0       0.99      0.88      0.93     32066\n",
      "\n",
      "    accuracy                           0.93     64179\n",
      "   macro avg       0.94      0.93      0.93     64179\n",
      "weighted avg       0.94      0.93      0.93     64179\n",
      "\n",
      "0.9348540799950139\n"
     ]
    }
   ],
   "source": [
    "y_train_pred_svm = SVM.predict(X_train)\n",
    "#evaluating on validation set\n",
    "print(confusion_matrix(y_train, y_train_pred_svm))\n",
    "print(classification_report(y_train, y_train_pred_svm))\n",
    "print(accuracy_score(y_train, y_train_pred_svm))"
   ]
  },
  {
   "cell_type": "markdown",
   "metadata": {},
   "source": [
    "Validation set evaluation"
   ]
  },
  {
   "cell_type": "code",
   "execution_count": 77,
   "metadata": {},
   "outputs": [
    {
     "name": "stdout",
     "output_type": "stream",
     "text": [
      "[[7988   58]\n",
      " [ 969 7030]]\n",
      "              precision    recall  f1-score   support\n",
      "\n",
      "         0.0       0.89      0.99      0.94      8046\n",
      "         1.0       0.99      0.88      0.93      7999\n",
      "\n",
      "    accuracy                           0.94     16045\n",
      "   macro avg       0.94      0.94      0.94     16045\n",
      "weighted avg       0.94      0.94      0.94     16045\n",
      "\n",
      "0.9359925210345902\n"
     ]
    }
   ],
   "source": [
    "y_val_pred_svm = SVM.predict(X_valid)\n",
    "#evaluating on validation set\n",
    "print(confusion_matrix(y_valid, y_val_pred_svm))\n",
    "print(classification_report(y_valid, y_val_pred_svm))\n",
    "print(accuracy_score(y_valid, y_val_pred_svm))"
   ]
  },
  {
   "cell_type": "markdown",
   "metadata": {},
   "source": [
    "Test set evaluation"
   ]
  },
  {
   "cell_type": "code",
   "execution_count": 78,
   "metadata": {},
   "outputs": [
    {
     "name": "stdout",
     "output_type": "stream",
     "text": [
      "[[9902   79]\n",
      " [1224 8851]]\n",
      "              precision    recall  f1-score   support\n",
      "\n",
      "         0.0       0.89      0.99      0.94      9981\n",
      "         1.0       0.99      0.88      0.93     10075\n",
      "\n",
      "    accuracy                           0.94     20056\n",
      "   macro avg       0.94      0.94      0.93     20056\n",
      "weighted avg       0.94      0.94      0.93     20056\n",
      "\n",
      "0.9350319106501795\n"
     ]
    }
   ],
   "source": [
    "y_tst_pred_svm = SVM.predict(X_test)\n",
    "#evaluating on validation set\n",
    "print(confusion_matrix(y_test, y_tst_pred_svm))\n",
    "print(classification_report(y_test, y_tst_pred_svm))\n",
    "print(accuracy_score(y_test, y_tst_pred_svm))"
   ]
  },
  {
   "cell_type": "markdown",
   "metadata": {},
   "source": [
    "## KNN"
   ]
  },
  {
   "cell_type": "markdown",
   "metadata": {},
   "source": [
    "Training"
   ]
  },
  {
   "cell_type": "code",
   "execution_count": 79,
   "metadata": {},
   "outputs": [],
   "source": [
    "from sklearn.neighbors import KNeighborsClassifier\n",
    "KNN = KNeighborsClassifier(n_neighbors=5).fit(X_train, y_train)"
   ]
  },
  {
   "cell_type": "markdown",
   "metadata": {},
   "source": [
    "Train set evaluation"
   ]
  },
  {
   "cell_type": "code",
   "execution_count": 81,
   "metadata": {},
   "outputs": [
    {
     "name": "stdout",
     "output_type": "stream",
     "text": [
      "[[31003  1110]\n",
      " [ 1906 30160]]\n",
      "              precision    recall  f1-score   support\n",
      "\n",
      "         0.0       0.94      0.97      0.95     32113\n",
      "         1.0       0.96      0.94      0.95     32066\n",
      "\n",
      "    accuracy                           0.95     64179\n",
      "   macro avg       0.95      0.95      0.95     64179\n",
      "weighted avg       0.95      0.95      0.95     64179\n",
      "\n",
      "0.9530064351267549\n"
     ]
    }
   ],
   "source": [
    "y_train_pred_knn = KNN.predict(X_train)\n",
    "print(confusion_matrix(y_train, y_train_pred_knn))\n",
    "print(classification_report(y_train, y_train_pred_knn))\n",
    "print(accuracy_score(y_train, y_train_pred_knn))"
   ]
  },
  {
   "cell_type": "markdown",
   "metadata": {},
   "source": [
    "Validation set evaluation"
   ]
  },
  {
   "cell_type": "code",
   "execution_count": 82,
   "metadata": {},
   "outputs": [
    {
     "name": "stdout",
     "output_type": "stream",
     "text": [
      "[[7605  441]\n",
      " [ 567 7432]]\n",
      "              precision    recall  f1-score   support\n",
      "\n",
      "         0.0       0.93      0.95      0.94      8046\n",
      "         1.0       0.94      0.93      0.94      7999\n",
      "\n",
      "    accuracy                           0.94     16045\n",
      "   macro avg       0.94      0.94      0.94     16045\n",
      "weighted avg       0.94      0.94      0.94     16045\n",
      "\n",
      "0.9371766905578062\n"
     ]
    }
   ],
   "source": [
    "y_val_pred_knn = KNN.predict(X_valid)\n",
    "print(confusion_matrix(y_valid, y_val_pred_knn))\n",
    "print(classification_report(y_valid, y_val_pred_knn))\n",
    "print(accuracy_score(y_valid, y_val_pred_knn))"
   ]
  },
  {
   "cell_type": "markdown",
   "metadata": {},
   "source": [
    "Test set evaluation"
   ]
  },
  {
   "cell_type": "code",
   "execution_count": 83,
   "metadata": {},
   "outputs": [
    {
     "name": "stdout",
     "output_type": "stream",
     "text": [
      "[[9408  573]\n",
      " [ 758 9317]]\n",
      "              precision    recall  f1-score   support\n",
      "\n",
      "         0.0       0.93      0.94      0.93      9981\n",
      "         1.0       0.94      0.92      0.93     10075\n",
      "\n",
      "    accuracy                           0.93     20056\n",
      "   macro avg       0.93      0.93      0.93     20056\n",
      "weighted avg       0.93      0.93      0.93     20056\n",
      "\n",
      "0.9336358197048265\n"
     ]
    }
   ],
   "source": [
    "y_tst_pred_knn = KNN.predict(X_test)\n",
    "print(confusion_matrix(y_test, y_tst_pred_knn))\n",
    "print(classification_report(y_test, y_tst_pred_knn))\n",
    "print(accuracy_score(y_test, y_tst_pred_knn))"
   ]
  },
  {
   "cell_type": "markdown",
   "metadata": {},
   "source": [
    "## Naive Bayes"
   ]
  },
  {
   "cell_type": "markdown",
   "metadata": {},
   "source": [
    "Training"
   ]
  },
  {
   "cell_type": "code",
   "execution_count": 84,
   "metadata": {},
   "outputs": [],
   "source": [
    "from sklearn.naive_bayes import GaussianNB\n",
    "NB = GaussianNB().fit(X_train, y_train)"
   ]
  },
  {
   "cell_type": "markdown",
   "metadata": {},
   "source": [
    "Train set evaluation"
   ]
  },
  {
   "cell_type": "code",
   "execution_count": 85,
   "metadata": {},
   "outputs": [
    {
     "name": "stdout",
     "output_type": "stream",
     "text": [
      "[[18524 13589]\n",
      " [ 2712 29354]]\n",
      "              precision    recall  f1-score   support\n",
      "\n",
      "         0.0       0.87      0.58      0.69     32113\n",
      "         1.0       0.68      0.92      0.78     32066\n",
      "\n",
      "    accuracy                           0.75     64179\n",
      "   macro avg       0.78      0.75      0.74     64179\n",
      "weighted avg       0.78      0.75      0.74     64179\n",
      "\n",
      "0.7460072609420527\n"
     ]
    }
   ],
   "source": [
    "y_train_pred_nb = NB.predict(X_train)\n",
    "\n",
    "print(confusion_matrix(y_train, y_train_pred_nb))\n",
    "print(classification_report(y_train, y_train_pred_nb))\n",
    "print(accuracy_score(y_train, y_train_pred_nb))"
   ]
  },
  {
   "cell_type": "markdown",
   "metadata": {},
   "source": [
    "Validation set evaluation"
   ]
  },
  {
   "cell_type": "code",
   "execution_count": 86,
   "metadata": {},
   "outputs": [
    {
     "name": "stdout",
     "output_type": "stream",
     "text": [
      "[[4601 3445]\n",
      " [ 651 7348]]\n",
      "              precision    recall  f1-score   support\n",
      "\n",
      "         0.0       0.88      0.57      0.69      8046\n",
      "         1.0       0.68      0.92      0.78      7999\n",
      "\n",
      "    accuracy                           0.74     16045\n",
      "   macro avg       0.78      0.75      0.74     16045\n",
      "weighted avg       0.78      0.74      0.74     16045\n",
      "\n",
      "0.7447179806793394\n"
     ]
    }
   ],
   "source": [
    "y_val_pred_nb = NB.predict(X_valid)\n",
    "\n",
    "print(confusion_matrix(y_valid, y_val_pred_nb))\n",
    "print(classification_report(y_valid, y_val_pred_nb))\n",
    "print(accuracy_score(y_valid, y_val_pred_nb))"
   ]
  },
  {
   "cell_type": "markdown",
   "metadata": {},
   "source": [
    "Test set evaluation"
   ]
  },
  {
   "cell_type": "code",
   "execution_count": 88,
   "metadata": {},
   "outputs": [
    {
     "name": "stdout",
     "output_type": "stream",
     "text": [
      "[[5806 4175]\n",
      " [ 821 9254]]\n",
      "              precision    recall  f1-score   support\n",
      "\n",
      "         0.0       0.88      0.58      0.70      9981\n",
      "         1.0       0.69      0.92      0.79     10075\n",
      "\n",
      "    accuracy                           0.75     20056\n",
      "   macro avg       0.78      0.75      0.74     20056\n",
      "weighted avg       0.78      0.75      0.74     20056\n",
      "\n",
      "0.7508974870362983\n"
     ]
    }
   ],
   "source": [
    "y_tst_pred_nb = NB.predict(X_test)\n",
    "\n",
    "print(confusion_matrix(y_test, y_tst_pred_nb))\n",
    "print(classification_report(y_test, y_tst_pred_nb))\n",
    "print(accuracy_score(y_test, y_tst_pred_nb))"
   ]
  },
  {
   "cell_type": "markdown",
   "metadata": {},
   "source": [
    "## Logistic Regression"
   ]
  },
  {
   "cell_type": "markdown",
   "metadata": {},
   "source": [
    "Training"
   ]
  },
  {
   "cell_type": "code",
   "execution_count": 89,
   "metadata": {},
   "outputs": [
    {
     "name": "stderr",
     "output_type": "stream",
     "text": [
      "e:\\Anaconda\\lib\\site-packages\\sklearn\\linear_model\\_logistic.py:762: ConvergenceWarning: lbfgs failed to converge (status=1):\n",
      "STOP: TOTAL NO. of ITERATIONS REACHED LIMIT.\n",
      "\n",
      "Increase the number of iterations (max_iter) or scale the data as shown in:\n",
      "    https://scikit-learn.org/stable/modules/preprocessing.html\n",
      "Please also refer to the documentation for alternative solver options:\n",
      "    https://scikit-learn.org/stable/modules/linear_model.html#logistic-regression\n",
      "  n_iter_i = _check_optimize_result(\n"
     ]
    }
   ],
   "source": [
    "from sklearn.linear_model import LogisticRegression\n",
    "LR = LogisticRegression().fit(X_train, y_train)"
   ]
  },
  {
   "cell_type": "markdown",
   "metadata": {},
   "source": [
    "Train set evaluation"
   ]
  },
  {
   "cell_type": "code",
   "execution_count": 91,
   "metadata": {},
   "outputs": [
    {
     "name": "stdout",
     "output_type": "stream",
     "text": [
      "[[31259   854]\n",
      " [ 4071 27995]]\n",
      "              precision    recall  f1-score   support\n",
      "\n",
      "         0.0       0.88      0.97      0.93     32113\n",
      "         1.0       0.97      0.87      0.92     32066\n",
      "\n",
      "    accuracy                           0.92     64179\n",
      "   macro avg       0.93      0.92      0.92     64179\n",
      "weighted avg       0.93      0.92      0.92     64179\n",
      "\n",
      "0.923261502983842\n"
     ]
    }
   ],
   "source": [
    "y_train_pred_lr = LR.predict(X_train)\n",
    "\n",
    "print(confusion_matrix(y_train, y_train_pred_lr))\n",
    "print(classification_report(y_train, y_train_pred_lr))\n",
    "print(accuracy_score(y_train, y_train_pred_lr))"
   ]
  },
  {
   "cell_type": "markdown",
   "metadata": {},
   "source": [
    "validation set evaluation"
   ]
  },
  {
   "cell_type": "code",
   "execution_count": 92,
   "metadata": {},
   "outputs": [
    {
     "name": "stdout",
     "output_type": "stream",
     "text": [
      "[[7816  230]\n",
      " [ 965 7034]]\n",
      "              precision    recall  f1-score   support\n",
      "\n",
      "         0.0       0.89      0.97      0.93      8046\n",
      "         1.0       0.97      0.88      0.92      7999\n",
      "\n",
      "    accuracy                           0.93     16045\n",
      "   macro avg       0.93      0.93      0.93     16045\n",
      "weighted avg       0.93      0.93      0.93     16045\n",
      "\n",
      "0.9255219694608913\n"
     ]
    }
   ],
   "source": [
    "y_val_pred_lr = LR.predict(X_valid)\n",
    "\n",
    "print(confusion_matrix(y_valid, y_val_pred_lr))\n",
    "print(classification_report(y_valid, y_val_pred_lr))\n",
    "print(accuracy_score(y_valid, y_val_pred_lr))"
   ]
  },
  {
   "cell_type": "markdown",
   "metadata": {},
   "source": [
    "Test set evaluation"
   ]
  },
  {
   "cell_type": "code",
   "execution_count": 93,
   "metadata": {},
   "outputs": [
    {
     "name": "stdout",
     "output_type": "stream",
     "text": [
      "[[9758  223]\n",
      " [1255 8820]]\n",
      "              precision    recall  f1-score   support\n",
      "\n",
      "         0.0       0.89      0.98      0.93      9981\n",
      "         1.0       0.98      0.88      0.92     10075\n",
      "\n",
      "    accuracy                           0.93     20056\n",
      "   macro avg       0.93      0.93      0.93     20056\n",
      "weighted avg       0.93      0.93      0.93     20056\n",
      "\n",
      "0.9263063422417231\n"
     ]
    }
   ],
   "source": [
    "y_tst_pred_lr = LR.predict(X_test)\n",
    "\n",
    "print(confusion_matrix(y_test, y_tst_pred_lr))\n",
    "print(classification_report(y_test, y_tst_pred_lr))\n",
    "print(accuracy_score(y_test, y_tst_pred_lr))"
   ]
  },
  {
   "cell_type": "markdown",
   "metadata": {},
   "source": [
    "## Decision Trees"
   ]
  },
  {
   "cell_type": "markdown",
   "metadata": {},
   "source": [
    "Training"
   ]
  },
  {
   "cell_type": "code",
   "execution_count": 94,
   "metadata": {},
   "outputs": [],
   "source": [
    "#trying decision tree\n",
    "from sklearn.tree import DecisionTreeClassifier\n",
    "DT = DecisionTreeClassifier().fit(X_train, y_train)\n",
    "y_pred_dt = DT.predict(X_valid)\n",
    "\n",
    "#evaluating\n",
    "from sklearn.metrics import classification_report, confusion_matrix, accuracy_score\n",
    "print(confusion_matrix(y_valid, y_pred_dt))\n",
    "print(classification_report(y_valid, y_pred_dt))\n",
    "print(accuracy_score(y_valid, y_pred_dt))"
   ]
  },
  {
   "cell_type": "markdown",
   "metadata": {},
   "source": [
    "Train set evaluation"
   ]
  },
  {
   "cell_type": "code",
   "execution_count": 95,
   "metadata": {},
   "outputs": [
    {
     "name": "stdout",
     "output_type": "stream",
     "text": [
      "[[32104     9]\n",
      " [   16 32050]]\n",
      "              precision    recall  f1-score   support\n",
      "\n",
      "         0.0       1.00      1.00      1.00     32113\n",
      "         1.0       1.00      1.00      1.00     32066\n",
      "\n",
      "    accuracy                           1.00     64179\n",
      "   macro avg       1.00      1.00      1.00     64179\n",
      "weighted avg       1.00      1.00      1.00     64179\n",
      "\n",
      "0.9996104644821515\n"
     ]
    }
   ],
   "source": [
    "y_train_pred_dt = DT.predict(X_train)\n",
    "\n",
    "print(confusion_matrix(y_train, y_train_pred_dt))\n",
    "print(classification_report(y_train, y_train_pred_dt))\n",
    "print(accuracy_score(y_train, y_train_pred_dt))"
   ]
  },
  {
   "cell_type": "markdown",
   "metadata": {},
   "source": [
    "Validation set evaluation"
   ]
  },
  {
   "cell_type": "code",
   "execution_count": 96,
   "metadata": {},
   "outputs": [
    {
     "name": "stdout",
     "output_type": "stream",
     "text": [
      "[[7439  607]\n",
      " [ 395 7604]]\n",
      "              precision    recall  f1-score   support\n",
      "\n",
      "         0.0       0.95      0.92      0.94      8046\n",
      "         1.0       0.93      0.95      0.94      7999\n",
      "\n",
      "    accuracy                           0.94     16045\n",
      "   macro avg       0.94      0.94      0.94     16045\n",
      "weighted avg       0.94      0.94      0.94     16045\n",
      "\n",
      "0.9375506388282954\n"
     ]
    }
   ],
   "source": [
    "y_val_pred_dt = DT.predict(X_valid)\n",
    "\n",
    "print(confusion_matrix(y_valid, y_val_pred_dt))\n",
    "print(classification_report(y_valid, y_val_pred_dt))\n",
    "print(accuracy_score(y_valid, y_val_pred_dt))"
   ]
  },
  {
   "cell_type": "markdown",
   "metadata": {},
   "source": [
    "## There is a clear overfitting in the decision tree classifier"
   ]
  },
  {
   "cell_type": "markdown",
   "metadata": {},
   "source": [
    "Test set evaluation"
   ]
  },
  {
   "cell_type": "code",
   "execution_count": 97,
   "metadata": {},
   "outputs": [
    {
     "name": "stdout",
     "output_type": "stream",
     "text": [
      "[[9228  753]\n",
      " [ 602 9473]]\n",
      "              precision    recall  f1-score   support\n",
      "\n",
      "         0.0       0.94      0.92      0.93      9981\n",
      "         1.0       0.93      0.94      0.93     10075\n",
      "\n",
      "    accuracy                           0.93     20056\n",
      "   macro avg       0.93      0.93      0.93     20056\n",
      "weighted avg       0.93      0.93      0.93     20056\n",
      "\n",
      "0.9324391703230953\n"
     ]
    }
   ],
   "source": [
    "y_tst_pred_dt = DT.predict(X_test)\n",
    "\n",
    "print(confusion_matrix(y_test, y_tst_pred_dt))\n",
    "print(classification_report(y_test, y_tst_pred_dt))\n",
    "print(accuracy_score(y_test, y_tst_pred_dt))"
   ]
  },
  {
   "cell_type": "markdown",
   "metadata": {},
   "source": [
    "## Random Forests (The Final Solution to the Problem)"
   ]
  },
  {
   "cell_type": "markdown",
   "metadata": {},
   "source": [
    "Training"
   ]
  },
  {
   "cell_type": "code",
   "execution_count": 103,
   "metadata": {},
   "outputs": [],
   "source": [
    "from sklearn.ensemble import RandomForestClassifier\n",
    "RF = RandomForestClassifier(n_estimators=100).fit(X_train, y_train)\n",
    "y_pred_rf = RF.predict(X_valid)\n",
    "\n",
    "#evaluating\n",
    "from sklearn.metrics import classification_report, confusion_matrix, accuracy_score\n",
    "print(confusion_matrix(y_valid, y_pred_rf))\n",
    "print(classification_report(y_valid, y_pred_rf))\n",
    "print(accuracy_score(y_valid, y_pred_rf))"
   ]
  },
  {
   "cell_type": "markdown",
   "metadata": {},
   "source": [
    "Train set evluation"
   ]
  },
  {
   "cell_type": "code",
   "execution_count": 104,
   "metadata": {},
   "outputs": [
    {
     "name": "stdout",
     "output_type": "stream",
     "text": [
      "[[32098    15]\n",
      " [   10 32056]]\n",
      "              precision    recall  f1-score   support\n",
      "\n",
      "         0.0       1.00      1.00      1.00     32113\n",
      "         1.0       1.00      1.00      1.00     32066\n",
      "\n",
      "    accuracy                           1.00     64179\n",
      "   macro avg       1.00      1.00      1.00     64179\n",
      "weighted avg       1.00      1.00      1.00     64179\n",
      "\n",
      "0.9996104644821515\n"
     ]
    }
   ],
   "source": [
    "y_train_pred_rf = RF.predict(X_train)\n",
    "\n",
    "print(confusion_matrix(y_train, y_train_pred_rf))\n",
    "print(classification_report(y_train, y_train_pred_rf))\n",
    "print(accuracy_score(y_train, y_train_pred_rf))"
   ]
  },
  {
   "cell_type": "markdown",
   "metadata": {},
   "source": [
    "Validation set evaluation"
   ]
  },
  {
   "cell_type": "code",
   "execution_count": 105,
   "metadata": {},
   "outputs": [
    {
     "name": "stdout",
     "output_type": "stream",
     "text": [
      "[[7832  214]\n",
      " [ 394 7605]]\n",
      "              precision    recall  f1-score   support\n",
      "\n",
      "         0.0       0.95      0.97      0.96      8046\n",
      "         1.0       0.97      0.95      0.96      7999\n",
      "\n",
      "    accuracy                           0.96     16045\n",
      "   macro avg       0.96      0.96      0.96     16045\n",
      "weighted avg       0.96      0.96      0.96     16045\n",
      "\n",
      "0.9621065752570894\n"
     ]
    }
   ],
   "source": [
    "y_val_pred_rf = RF.predict(X_valid)\n",
    "\n",
    "print(confusion_matrix(y_valid, y_val_pred_rf))\n",
    "print(classification_report(y_valid, y_val_pred_rf))\n",
    "print(accuracy_score(y_valid, y_val_pred_rf))"
   ]
  },
  {
   "cell_type": "markdown",
   "metadata": {},
   "source": [
    "Test set evaluation"
   ]
  },
  {
   "cell_type": "code",
   "execution_count": 106,
   "metadata": {},
   "outputs": [
    {
     "name": "stdout",
     "output_type": "stream",
     "text": [
      "[[9685  296]\n",
      " [ 543 9532]]\n",
      "              precision    recall  f1-score   support\n",
      "\n",
      "         0.0       0.95      0.97      0.96      9981\n",
      "         1.0       0.97      0.95      0.96     10075\n",
      "\n",
      "    accuracy                           0.96     20056\n",
      "   macro avg       0.96      0.96      0.96     20056\n",
      "weighted avg       0.96      0.96      0.96     20056\n",
      "\n",
      "0.9581671320303151\n"
     ]
    }
   ],
   "source": [
    "y_test_pred_rf = RF.predict(X_test)\n",
    "\n",
    "print(confusion_matrix(y_test, y_test_pred_rf))\n",
    "print(classification_report(y_test, y_test_pred_rf))\n",
    "print(accuracy_score(y_test, y_test_pred_rf))"
   ]
  }
 ],
 "metadata": {
  "interpreter": {
   "hash": "91bb753b057673435fb8d6f6a083e6c818364728098c7ae050ca3a25357dd754"
  },
  "kernelspec": {
   "display_name": "Python 3.8.3 ('base')",
   "language": "python",
   "name": "python3"
  },
  "language_info": {
   "codemirror_mode": {
    "name": "ipython",
    "version": 3
   },
   "file_extension": ".py",
   "mimetype": "text/x-python",
   "name": "python",
   "nbconvert_exporter": "python",
   "pygments_lexer": "ipython3",
   "version": "3.8.3"
  },
  "orig_nbformat": 4
 },
 "nbformat": 4,
 "nbformat_minor": 2
}
