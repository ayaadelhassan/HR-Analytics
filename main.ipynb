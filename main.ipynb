{
 "cells": [
  {
   "cell_type": "code",
   "execution_count": 14,
   "metadata": {},
   "outputs": [
    {
     "data": {
      "image/png": "[encoded data removed]",
      "text/plain": [
       "<Figure size 1080x360 with 2 Axes>"
      ]
     },
     "metadata": {},
     "output_type": "display_data"
    }
   ],
   "source": [
    "#detect outliers using boxplot\n",
    "plt.rcParams['figure.figsize'] = (15, 5)\n",
    "plt.style.use('fivethirtyeight')\n",
    "\n",
    "# Box plot for average training score\n",
    "plt.subplot(1, 2, 1)\n",
    "sns.boxplot(dataset['avg_training_score'], color = 'red')\n",
    "plt.xlabel('Average Training Score', fontsize = 12)\n",
    "plt.ylabel('Range', fontsize = 12)\n",
    "\n",
    "# Box plot for length of service\n",
    "plt.subplot(1, 2, 2)\n",
    "sns.boxplot(dataset['length_of_service'], color = 'red')\n",
    "plt.xlabel('Length of Service', fontsize = 12)\n",
    "plt.ylabel('Range', fontsize = 12)\n",
    "\n",
    "plt.suptitle('Box Plot', fontsize = 20)\n",
    "plt.show()"
   ]
  },
  {
   "cell_type": "code",
   "execution_count": null,
   "metadata": {},
   "outputs": [],
   "source": [
    "#we need to remove the outliers in the length of service column\n"
   ]
  },
  {
   "cell_type": "markdown",
   "metadata": {},
   "source": [
    "# 5- Training the models"
   ]
  },
  {
   "cell_type": "code",
   "execution_count": 46,
   "metadata": {},
   "outputs": [
    {
     "name": "stderr",
     "output_type": "stream",
     "text": [
      "e:\\Anaconda\\lib\\site-packages\\sklearn\\utils\\validation.py:993: DataConversionWarning: A column-vector y was passed when a 1d array was expected. Please change the shape of y to (n_samples, ), for example using ravel().\n",
      "  -------\n"
     ]
    },
    {
     "name": "stdout",
     "output_type": "stream",
     "text": [
      "[[6447 1599]\n",
      " [1243 6756]]\n",
      "              precision    recall  f1-score   support\n",
      "\n",
      "           0       0.84      0.80      0.82      8046\n",
      "           1       0.81      0.84      0.83      7999\n",
      "\n",
      "    accuracy                           0.82     16045\n",
      "   macro avg       0.82      0.82      0.82     16045\n",
      "weighted avg       0.82      0.82      0.82     16045\n",
      "\n",
      "0.8228731692115924\n"
     ]
    }
   ],
   "source": [
    "#trying out svm model\n",
    "from sklearn.svm import SVC\n",
    "SVM = SVC().fit(x_train, y_train)\n",
    "y_pred_svm = SVM.predict(x_val)\n",
    "\n",
    "#evaluating \n",
    "from sklearn.metrics import classification_report, confusion_matrix, accuracy_score\n",
    "print(confusion_matrix(y_val, y_pred_svm))\n",
    "print(classification_report(y_val, y_pred_svm))\n",
    "print(accuracy_score(y_val, y_pred_svm))"
   ]
  },
  {
   "cell_type": "code",
   "execution_count": 47,
   "metadata": {},
   "outputs": [
    {
     "name": "stderr",
     "output_type": "stream",
     "text": [
      "e:\\Anaconda\\lib\\site-packages\\sklearn\\neighbors\\_classification.py:198: DataConversionWarning: A column-vector y was passed when a 1d array was expected. Please change the shape of y to (n_samples,), for example using ravel().\n",
      "  \n"
     ]
    },
    {
     "name": "stdout",
     "output_type": "stream",
     "text": [
      "[[5731 2315]\n",
      " [  44 7955]]\n",
      "              precision    recall  f1-score   support\n",
      "\n",
      "           0       0.99      0.71      0.83      8046\n",
      "           1       0.77      0.99      0.87      7999\n",
      "\n",
      "    accuracy                           0.85     16045\n",
      "   macro avg       0.88      0.85      0.85     16045\n",
      "weighted avg       0.88      0.85      0.85     16045\n",
      "\n",
      "0.8529760049859769\n"
     ]
    }
   ],
   "source": [
    "#trying KNN\n",
    "from sklearn.neighbors import KNeighborsClassifier\n",
    "KNN = KNeighborsClassifier(n_neighbors=5).fit(x_train, y_train)\n",
    "y_pred_knn = KNN.predict(x_val)\n",
    "\n",
    "#evaluating \n",
    "from sklearn.metrics import classification_report, confusion_matrix, accuracy_score\n",
    "print(confusion_matrix(y_val, y_pred_knn))\n",
    "print(classification_report(y_val, y_pred_knn))\n",
    "print(accuracy_score(y_val, y_pred_knn))"
   ]
  },
  {
   "cell_type": "code",
   "execution_count": 48,
   "metadata": {},
   "outputs": [
    {
     "name": "stdout",
     "output_type": "stream",
     "text": [
      "[[7435  611]\n",
      " [ 375 7624]]\n",
      "              precision    recall  f1-score   support\n",
      "\n",
      "           0       0.95      0.92      0.94      8046\n",
      "           1       0.93      0.95      0.94      7999\n",
      "\n",
      "    accuracy                           0.94     16045\n",
      "   macro avg       0.94      0.94      0.94     16045\n",
      "weighted avg       0.94      0.94      0.94     16045\n",
      "\n",
      "0.9385478342162668\n"
     ]
    }
   ],
   "source": [
    "#trying decision tree\n",
    "from sklearn.tree import DecisionTreeClassifier\n",
    "DT = DecisionTreeClassifier().fit(x_train, y_train)\n",
    "y_pred_dt = DT.predict(x_val)\n",
    "\n",
    "#evaluating\n",
    "from sklearn.metrics import classification_report, confusion_matrix, accuracy_score\n",
    "print(confusion_matrix(y_val, y_pred_dt))\n",
    "print(classification_report(y_val, y_pred_dt))\n",
    "print(accuracy_score(y_val, y_pred_dt))\n"
   ]
  },
  {
   "cell_type": "code",
   "execution_count": 49,
   "metadata": {},
   "outputs": [
    {
     "name": "stderr",
     "output_type": "stream",
     "text": [
      "e:\\Anaconda\\lib\\site-packages\\sklearn\\utils\\validation.py:993: DataConversionWarning: A column-vector y was passed when a 1d array was expected. Please change the shape of y to (n_samples, ), for example using ravel().\n",
      "  -------\n"
     ]
    },
    {
     "name": "stdout",
     "output_type": "stream",
     "text": [
      "[[4678 3368]\n",
      " [ 647 7352]]\n",
      "              precision    recall  f1-score   support\n",
      "\n",
      "           0       0.88      0.58      0.70      8046\n",
      "           1       0.69      0.92      0.79      7999\n",
      "\n",
      "    accuracy                           0.75     16045\n",
      "   macro avg       0.78      0.75      0.74     16045\n",
      "weighted avg       0.78      0.75      0.74     16045\n",
      "\n",
      "0.7497662823309442\n"
     ]
    }
   ],
   "source": [
    "#trying naive bayes\n",
    "from sklearn.naive_bayes import GaussianNB\n",
    "NB = GaussianNB().fit(x_train, y_train)\n",
    "y_pred_nb = NB.predict(x_val)\n",
    "\n",
    "#evaluating\n",
    "from sklearn.metrics import classification_report, confusion_matrix, accuracy_score\n",
    "print(confusion_matrix(y_val, y_pred_nb))\n",
    "print(classification_report(y_val, y_pred_nb))\n",
    "print(accuracy_score(y_val, y_pred_nb))"
   ]
  },
  {
   "cell_type": "code",
   "execution_count": 50,
   "metadata": {},
   "outputs": [
    {
     "name": "stderr",
     "output_type": "stream",
     "text": [
      "<ipython-input-50-ced3ed6db3de>:3: DataConversionWarning: A column-vector y was passed when a 1d array was expected. Please change the shape of y to (n_samples,), for example using ravel().\n",
      "  RF = RandomForestClassifier(n_estimators=100).fit(x_train, y_train)\n"
     ]
    },
    {
     "name": "stdout",
     "output_type": "stream",
     "text": [
      "[[7837  209]\n",
      " [ 417 7582]]\n",
      "              precision    recall  f1-score   support\n",
      "\n",
      "           0       0.95      0.97      0.96      8046\n",
      "           1       0.97      0.95      0.96      7999\n",
      "\n",
      "    accuracy                           0.96     16045\n",
      "   macro avg       0.96      0.96      0.96     16045\n",
      "weighted avg       0.96      0.96      0.96     16045\n",
      "\n",
      "0.9609847304456217\n"
     ]
    }
   ],
   "source": [
    "#trygin random forest\n",
    "from sklearn.ensemble import RandomForestClassifier\n",
    "RF = RandomForestClassifier(n_estimators=100).fit(x_train, y_train)\n",
    "y_pred_rf = RF.predict(x_val)\n",
    "\n",
    "#evaluating\n",
    "from sklearn.metrics import classification_report, confusion_matrix, accuracy_score\n",
    "print(confusion_matrix(y_val, y_pred_rf))\n",
    "print(classification_report(y_val, y_pred_rf))\n",
    "print(accuracy_score(y_val, y_pred_rf))"
   ]
  },
  {
   "cell_type": "code",
   "execution_count": 29,
   "metadata": {},
   "outputs": [
    {
     "name": "stderr",
     "output_type": "stream",
     "text": [
      "E:\\Anaconda\\lib\\site-packages\\sklearn\\utils\\validation.py:993: DataConversionWarning: A column-vector y was passed when a 1d array was expected. Please change the shape of y to (n_samples, ), for example using ravel().\n",
      "  y = column_or_1d(y, warn=True)\n"
     ]
    },
    {
     "name": "stdout",
     "output_type": "stream",
     "text": [
      "[[11257  1200]\n",
      " [ 1989 10624]]\n",
      "              precision    recall  f1-score   support\n",
      "\n",
      "           0       0.85      0.90      0.88     12457\n",
      "           1       0.90      0.84      0.87     12613\n",
      "\n",
      "    accuracy                           0.87     25070\n",
      "   macro avg       0.87      0.87      0.87     25070\n",
      "weighted avg       0.87      0.87      0.87     25070\n",
      "\n",
      "0.8727961707219785\n"
     ]
    },
    {
     "name": "stderr",
     "output_type": "stream",
     "text": [
      "E:\\Anaconda\\lib\\site-packages\\sklearn\\linear_model\\_logistic.py:814: ConvergenceWarning: lbfgs failed to converge (status=1):\n",
      "STOP: TOTAL NO. of ITERATIONS REACHED LIMIT.\n",
      "\n",
      "Increase the number of iterations (max_iter) or scale the data as shown in:\n",
      "    https://scikit-learn.org/stable/modules/preprocessing.html\n",
      "Please also refer to the documentation for alternative solver options:\n",
      "    https://scikit-learn.org/stable/modules/linear_model.html#logistic-regression\n",
      "  n_iter_i = _check_optimize_result(\n"
     ]
    }
   ],
   "source": [
    "#trying logistic regression\n",
    "from sklearn.linear_model import LogisticRegression\n",
    "LR = LogisticRegression().fit(x_train, y_train)\n",
    "y_pred_lr = LR.predict(x_val)\n",
    "\n",
    "#evaluating\n",
    "from sklearn.metrics import classification_report, confusion_matrix, accuracy_score\n",
    "print(confusion_matrix(y_val, y_pred_lr))\n",
    "print(classification_report(y_val, y_pred_lr))\n",
    "print(accuracy_score(y_val, y_pred_lr))"
   ]
  }
 ],
 "metadata": {
  "interpreter": {
   "hash": "91bb753b057673435fb8d6f6a083e6c818364728098c7ae050ca3a25357dd754"
  },
  "kernelspec": {
   "display_name": "Python 3.8.3 ('base')",
   "language": "python",
   "name": "python3"
  },
  "language_info": {
   "codemirror_mode": {
    "name": "ipython",
    "version": 3
   },
   "file_extension": ".py",
   "mimetype": "text/x-python",
   "name": "python",
   "nbconvert_exporter": "python",
   "pygments_lexer": "ipython3",
   "version": "3.8.3"
  },
  "orig_nbformat": 4
 },
 "nbformat": 4,
 "nbformat_minor": 2
}
